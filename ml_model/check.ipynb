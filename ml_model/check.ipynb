{
 "cells": [
  {
   "cell_type": "markdown",
   "id": "ed163034",
   "metadata": {},
   "source": [
    "# Проверка работоспособности сервиса рекомендаций книг"
   ]
  },
  {
   "cell_type": "code",
   "execution_count": null,
   "metadata": {},
   "outputs": [],
   "source": [
    "!curl http://35.209.30.42:5000/hcheck"
   ]
  },
  {
   "cell_type": "markdown",
   "metadata": {
    "collapsed": false,
    "pycharm": {
     "name": "#%% md\n"
    }
   },
   "source": [
    "#### Пример запроса"
   ]
  },
  {
   "cell_type": "code",
   "execution_count": 14,
   "metadata": {
    "collapsed": false,
    "pycharm": {
     "name": "#%%\n"
    }
   },
   "outputs": [
    {
     "name": "stdout",
     "output_type": "stream",
     "text": [
      "200 OK\n",
      "{'history': [{'author': 'Майорош Нора', 'id': '12555', 'title': 'Семья 3х1'}, {'author': 'Платонов Андрей Платонович', 'id': '94424', 'title': 'Неизвестный цветок'}, {'author': 'Чехов Антон Павлович', 'id': '112234', 'title': 'Мальчики'}, {'author': 'Андреев Леонид', 'id': '264533', 'title': 'Кусака'}, {'author': 'Носов Николай Николаевич', 'id': '114610', 'title': 'Приключения Незнайки и его друзей , Незнайка в Солнечном городе , Незнайка на Луне'}, {'author': 'Пришвин Михаил Михайлович', 'id': '256134', 'title': 'Этажи леса'}, {'author': 'Астафьев Виктор Петрович', 'id': '1301', 'title': 'Стрижонок Скрип'}, {'author': 'Куприн Александр Иванович', 'id': '269023', 'title': 'Ю-Ю'}, {'author': 'Мамин-Сибиряк Дмитрий Наркисович', 'id': '285528', 'title': 'Приемыш'}, {'author': 'Бианки Виталий Валентинович', 'id': '1526', 'title': 'Чей нос лучше?'}, {'author': 'Линдгрен Астрид', 'id': '33449', 'title': 'Карлссон, который живет на крыше'}, {'author': 'Линдгрен Астрид', 'id': '2878', 'title': 'Карлсон, который живет на крыше, опять прилетел'}, {'author': 'Линдгрен Астрид', 'id': '21174', 'title': 'Карлсон, который живет на крыше, проказничает опять'}], 'recommendations': []}\n",
      "Wall time: 1.18 s\n"
     ]
    }
   ],
   "source": [
    "%%time\n",
    "import requests\n",
    "\n",
    "URL = 'http://35.209.30.42:5000/recommend/'\n",
    "user_id = '1188'\n",
    "\n",
    "rs = requests.get(URL + user_id)\n",
    "print(rs.status_code, rs.reason)\n",
    "\n",
    "data = rs.json()\n",
    "print(data)"
   ]
  },
  {
   "cell_type": "code",
   "execution_count": null,
   "metadata": {
    "collapsed": false,
    "pycharm": {
     "name": "#%%\n"
    }
   },
   "outputs": [],
   "source": []
  }
 ],
 "metadata": {
  "environment": {
   "name": "pytorch-gpu.1-9.m75",
   "type": "gcloud",
   "uri": "gcr.io/deeplearning-platform-release/pytorch-gpu.1-9:m75"
  },
  "kernelspec": {
   "display_name": "Python 3",
   "language": "python",
   "name": "python3"
  },
  "language_info": {
   "codemirror_mode": {
    "name": "ipython",
    "version": 3
   },
   "file_extension": ".py",
   "mimetype": "text/x-python",
   "name": "python",
   "nbconvert_exporter": "python",
   "pygments_lexer": "ipython3",
   "version": "3.7.10"
  }
 },
 "nbformat": 4,
 "nbformat_minor": 5
}

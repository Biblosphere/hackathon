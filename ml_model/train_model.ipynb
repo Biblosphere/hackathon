{
 "cells": [
  {
   "cell_type": "markdown",
   "id": "c4085056-0aa0-424d-bc97-8a8f6a67c55f",
   "metadata": {},
   "source": [
    "# Train model"
   ]
  },
  {
   "cell_type": "markdown",
   "id": "4163e958-97a1-46ab-ba79-57d59093d126",
   "metadata": {},
   "source": [
    "## Описание решения\n",
    "\n",
    "В процессе решения задачи задачи мы пробовали несколько разных алгоритмов и подходов, начиная от простых алгоритмов, заканчивая нейросетями. В результате, в нашем случае, лучший результат показал алгоритм нахождения ближайших похожих книг для каждого пользователя посредством нахождения косинусного расстояния на основании матрицы взаимодействия пользователей и книг (матрица users-items).\n",
    "\n",
    "Текущий ноутбук с решение содержит только тренировку и формирование модели по этому алгоритму. Все другие наши эксперименты сюда не входят.\n",
    "\n",
    "__Общий алгоритм подготовки датасета для обучения__\n",
    "\n",
    "(содержится в отдельном блокноте: `build_dataset.ipynb`)\n",
    "\n",
    "1. Сворачиваем датасет с книгами по названию и автору, также удаляем из него книги без названий. Для удобства сохраняем соответствие  recId для каждой книги в исходном датасете для книг в новом свернутом датасете (датасет книг: `data/books.csv`; соответствие recId: `data/books_map.csv`)\n",
    "\n",
    "2. На основании датасета выдачи книг готови датасет взаимодействий пользователей и книг: перекодируем книги на основании `data/books_map.csv`, удаляем лишние поля и сворачиваем. В результате получаем датасет: `data/interactions.csv`\n",
    "\n",
    "__Тренировка модели и оценка модели__\n",
    "\n",
    "1. Делим подготовленный датасет `data/interactions.csv` на train и test случайным образом в соотношении 90/10\n",
    "\n",
    "2. На основании train готовим матрицу вида users-items \n",
    "\n",
    "3. Обучаем модель используя библиотеку `impicit` и `CosineRecomender`\n",
    "\n",
    "4. Строим датасет `result`, который содержит фактически взятые книги пользователей из датасета `test`, а также рекомендации модели. Для честной оценки в датасет `result` включаются только пользователи, кто взял 5 и более книг в датасете `test`.\n",
    "\n",
    "5. Считаем метрику `precision@5` по каждому пользователю (как процент угаданных книг из тех, которые он взял фактически). Считаем итоговую метрику `Average Precision@5` по всем пользователям.\n",
    "\n",
    "6. Переучиваем модель модель с тренировки на всем датасете и сохраняем для использования в flask приложении.\n"
   ]
  },
  {
   "cell_type": "markdown",
   "id": "2ab17d72-36d8-4c60-8b45-ee900fa5002b",
   "metadata": {},
   "source": [
    "## Тренировка и оценка модели"
   ]
  },
  {
   "cell_type": "code",
   "execution_count": 141,
   "id": "6eb9c070-db65-4ffc-91a6-dd3deda7651b",
   "metadata": {},
   "outputs": [],
   "source": [
    "import numpy as np\n",
    "import pandas as pd\n",
    "import joblib\n",
    "\n",
    "from sklearn.model_selection import train_test_split\n",
    "from scipy.sparse import csr_matrix\n",
    "import implicit\n",
    "\n",
    "from scipy.sparse import csr_matrix\n",
    "from pandas.api.types import CategoricalDtype\n",
    "\n",
    "from implicit.nearest_neighbours import CosineRecommender"
   ]
  },
  {
   "cell_type": "code",
   "execution_count": 142,
   "id": "ee7d6a69-cc4e-4bbf-94c2-996529efc43f",
   "metadata": {},
   "outputs": [],
   "source": [
    "def precision_at_k(recommended_list, bought_list, k=5):\n",
    "    \n",
    "    bought_list = np.array(bought_list)\n",
    "    recommended_list = np.array(recommended_list)\n",
    "    \n",
    "    bought_list = bought_list  # Тут нет [:k] !!\n",
    "    recommended_list = recommended_list[:k]\n",
    "    \n",
    "    flags = np.isin(bought_list, recommended_list)\n",
    "    precision = flags.sum() / len(recommended_list)\n",
    "    \n",
    "    \n",
    "    return precision"
   ]
  },
  {
   "cell_type": "code",
   "execution_count": 143,
   "id": "65ca0690-512a-4ac4-82fd-92855d39fa66",
   "metadata": {},
   "outputs": [
    {
     "name": "stdout",
     "output_type": "stream",
     "text": [
      "(11383578, 4)\n"
     ]
    },
    {
     "data": {
      "text/html": [
       "<div>\n",
       "<style scoped>\n",
       "    .dataframe tbody tr th:only-of-type {\n",
       "        vertical-align: middle;\n",
       "    }\n",
       "\n",
       "    .dataframe tbody tr th {\n",
       "        vertical-align: top;\n",
       "    }\n",
       "\n",
       "    .dataframe thead th {\n",
       "        text-align: right;\n",
       "    }\n",
       "</style>\n",
       "<table border=\"1\" class=\"dataframe\">\n",
       "  <thead>\n",
       "    <tr style=\"text-align: right;\">\n",
       "      <th></th>\n",
       "      <th>date</th>\n",
       "      <th>user</th>\n",
       "      <th>item</th>\n",
       "      <th>interaction</th>\n",
       "    </tr>\n",
       "  </thead>\n",
       "  <tbody>\n",
       "    <tr>\n",
       "      <th>0</th>\n",
       "      <td>2019-09-01</td>\n",
       "      <td>1188</td>\n",
       "      <td>12555</td>\n",
       "      <td>1</td>\n",
       "    </tr>\n",
       "    <tr>\n",
       "      <th>1</th>\n",
       "      <td>2019-09-01</td>\n",
       "      <td>23276</td>\n",
       "      <td>252072</td>\n",
       "      <td>1</td>\n",
       "    </tr>\n",
       "  </tbody>\n",
       "</table>\n",
       "</div>"
      ],
      "text/plain": [
       "        date   user    item  interaction\n",
       "0 2019-09-01   1188   12555            1\n",
       "1 2019-09-01  23276  252072            1"
      ]
     },
     "execution_count": 143,
     "metadata": {},
     "output_type": "execute_result"
    }
   ],
   "source": [
    "df = pd.read_csv('data/interactions.csv', parse_dates=['date']).drop('Unnamed: 0', axis=1)\n",
    "df.rename(columns={'item_id': 'item', 'user_id': 'user'}, inplace=True)\n",
    "df['interaction'] = 1\n",
    "df.sort_values(by='date')\n",
    "print(df.shape)\n",
    "df.head(2)"
   ]
  },
  {
   "cell_type": "code",
   "execution_count": 144,
   "id": "210588bf-5f9d-45a2-bb35-6c5addd2ec91",
   "metadata": {},
   "outputs": [],
   "source": [
    "data_train, data_test = train_test_split(df, test_size=0.1, random_state=42)\n",
    "data_test = data_test[data_test['user'].isin(data_train['user'])]\n",
    "data_test = data_test[data_test['item'].isin(data_train['item'])]"
   ]
  },
  {
   "cell_type": "code",
   "execution_count": 145,
   "id": "71dad83c-fe3c-413c-ab8b-ec541d471717",
   "metadata": {},
   "outputs": [
    {
     "name": "stdout",
     "output_type": "stream",
     "text": [
      "(9191619, 3)\n"
     ]
    },
    {
     "data": {
      "text/html": [
       "<div>\n",
       "<style scoped>\n",
       "    .dataframe tbody tr th:only-of-type {\n",
       "        vertical-align: middle;\n",
       "    }\n",
       "\n",
       "    .dataframe tbody tr th {\n",
       "        vertical-align: top;\n",
       "    }\n",
       "\n",
       "    .dataframe thead th {\n",
       "        text-align: right;\n",
       "    }\n",
       "</style>\n",
       "<table border=\"1\" class=\"dataframe\">\n",
       "  <thead>\n",
       "    <tr style=\"text-align: right;\">\n",
       "      <th></th>\n",
       "      <th>user</th>\n",
       "      <th>item</th>\n",
       "      <th>interaction</th>\n",
       "    </tr>\n",
       "  </thead>\n",
       "  <tbody>\n",
       "    <tr>\n",
       "      <th>0</th>\n",
       "      <td>602580</td>\n",
       "      <td>128074</td>\n",
       "      <td>1</td>\n",
       "    </tr>\n",
       "    <tr>\n",
       "      <th>1</th>\n",
       "      <td>445326</td>\n",
       "      <td>306934</td>\n",
       "      <td>1</td>\n",
       "    </tr>\n",
       "    <tr>\n",
       "      <th>2</th>\n",
       "      <td>559995</td>\n",
       "      <td>905984</td>\n",
       "      <td>1</td>\n",
       "    </tr>\n",
       "    <tr>\n",
       "      <th>3</th>\n",
       "      <td>341602</td>\n",
       "      <td>1563321</td>\n",
       "      <td>1</td>\n",
       "    </tr>\n",
       "    <tr>\n",
       "      <th>4</th>\n",
       "      <td>469041</td>\n",
       "      <td>62978</td>\n",
       "      <td>1</td>\n",
       "    </tr>\n",
       "  </tbody>\n",
       "</table>\n",
       "</div>"
      ],
      "text/plain": [
       "     user     item  interaction\n",
       "0  602580   128074            1\n",
       "1  445326   306934            1\n",
       "2  559995   905984            1\n",
       "3  341602  1563321            1\n",
       "4  469041    62978            1"
      ]
     },
     "execution_count": 145,
     "metadata": {},
     "output_type": "execute_result"
    }
   ],
   "source": [
    "data_train.drop('date', axis=1, inplace=True)\n",
    "data_train.drop_duplicates(ignore_index=True, keep='first', inplace=True)\n",
    "print(data_train.shape)\n",
    "data_train.head()"
   ]
  },
  {
   "cell_type": "code",
   "execution_count": 146,
   "id": "c50d15f0-9021-4a4e-a97e-fac90535c6b9",
   "metadata": {},
   "outputs": [],
   "source": [
    "person_c = CategoricalDtype(sorted(data_train.user.unique()), ordered=True)\n",
    "thing_c = CategoricalDtype(sorted(data_train.item.unique()), ordered=True)\n",
    "\n",
    "row = data_train.user.astype(person_c).cat.codes\n",
    "col = data_train.item.astype(thing_c).cat.codes\n",
    "sparse_user_item = csr_matrix((data_train[\"interaction\"], (row, col)), \\\n",
    "                           shape=(person_c.categories.size, thing_c.categories.size)).tocsr()\n",
    "\n",
    "sparse_user_item = sparse_user_item.astype(np.float64)"
   ]
  },
  {
   "cell_type": "code",
   "execution_count": 147,
   "id": "3b647a0b-82b6-415a-bc30-3ad8f34e86fb",
   "metadata": {},
   "outputs": [
    {
     "data": {
      "text/plain": [
       "(9191619.0, (547133, 346976))"
      ]
     },
     "execution_count": 147,
     "metadata": {},
     "output_type": "execute_result"
    }
   ],
   "source": [
    "sparse_user_item.sum(), sparse_user_item.shape"
   ]
  },
  {
   "cell_type": "code",
   "execution_count": 148,
   "id": "98bccebf-d4a2-4209-a7e7-617acfc67f98",
   "metadata": {},
   "outputs": [],
   "source": [
    "# перенумеруем пользователей и товары\n",
    "userids = person_c.categories.to_list()\n",
    "itemids = thing_c.categories.to_list()\n",
    "\n",
    "matrix_userids = np.arange(len(userids))\n",
    "matrix_itemids = np.arange(len(itemids))\n",
    "\n",
    "id_to_itemid = dict(zip(matrix_itemids, itemids))\n",
    "id_to_userid = dict(zip(matrix_userids, userids))\n",
    "\n",
    "itemid_to_id = dict(zip(itemids, matrix_itemids))\n",
    "userid_to_id = dict(zip(userids, matrix_userids))"
   ]
  },
  {
   "cell_type": "code",
   "execution_count": 149,
   "id": "b3eb1899-9a85-4d0b-a710-136710e0daef",
   "metadata": {},
   "outputs": [
    {
     "name": "stdout",
     "output_type": "stream",
     "text": [
      "(61937, 3)\n"
     ]
    },
    {
     "data": {
      "text/html": [
       "<div>\n",
       "<style scoped>\n",
       "    .dataframe tbody tr th:only-of-type {\n",
       "        vertical-align: middle;\n",
       "    }\n",
       "\n",
       "    .dataframe tbody tr th {\n",
       "        vertical-align: top;\n",
       "    }\n",
       "\n",
       "    .dataframe thead th {\n",
       "        text-align: right;\n",
       "    }\n",
       "</style>\n",
       "<table border=\"1\" class=\"dataframe\">\n",
       "  <thead>\n",
       "    <tr style=\"text-align: right;\">\n",
       "      <th></th>\n",
       "      <th>user</th>\n",
       "      <th>actual</th>\n",
       "      <th>actual_count</th>\n",
       "    </tr>\n",
       "  </thead>\n",
       "  <tbody>\n",
       "    <tr>\n",
       "      <th>1</th>\n",
       "      <td>171</td>\n",
       "      <td>[26612, 249379, 272308, 52383, 356434]</td>\n",
       "      <td>5</td>\n",
       "    </tr>\n",
       "    <tr>\n",
       "      <th>8</th>\n",
       "      <td>188</td>\n",
       "      <td>[124303, 357246, 586439, 301465, 30697, 117820...</td>\n",
       "      <td>7</td>\n",
       "    </tr>\n",
       "    <tr>\n",
       "      <th>20</th>\n",
       "      <td>232</td>\n",
       "      <td>[11527, 123661, 122056, 48793, 532234, 48254, ...</td>\n",
       "      <td>18</td>\n",
       "    </tr>\n",
       "    <tr>\n",
       "      <th>21</th>\n",
       "      <td>233</td>\n",
       "      <td>[297395, 12446, 5613, 20779, 30167, 1190698, 2...</td>\n",
       "      <td>13</td>\n",
       "    </tr>\n",
       "    <tr>\n",
       "      <th>22</th>\n",
       "      <td>234</td>\n",
       "      <td>[40843, 253158, 34861, 6566, 269092, 10199, 34...</td>\n",
       "      <td>14</td>\n",
       "    </tr>\n",
       "    <tr>\n",
       "      <th>23</th>\n",
       "      <td>235</td>\n",
       "      <td>[268139, 9334, 57344, 26598, 35652, 116273, 32...</td>\n",
       "      <td>9</td>\n",
       "    </tr>\n",
       "    <tr>\n",
       "      <th>24</th>\n",
       "      <td>236</td>\n",
       "      <td>[308318, 1334309, 5308, 21012, 1528923, 4950, ...</td>\n",
       "      <td>17</td>\n",
       "    </tr>\n",
       "    <tr>\n",
       "      <th>27</th>\n",
       "      <td>242</td>\n",
       "      <td>[2389, 1869334, 40152, 118024, 55626, 90396, 1...</td>\n",
       "      <td>8</td>\n",
       "    </tr>\n",
       "    <tr>\n",
       "      <th>28</th>\n",
       "      <td>243</td>\n",
       "      <td>[1, 470433, 1426384, 1398353, 16840, 5361, 377...</td>\n",
       "      <td>11</td>\n",
       "    </tr>\n",
       "    <tr>\n",
       "      <th>30</th>\n",
       "      <td>245</td>\n",
       "      <td>[725170, 94272, 899996, 20381, 7618]</td>\n",
       "      <td>5</td>\n",
       "    </tr>\n",
       "  </tbody>\n",
       "</table>\n",
       "</div>"
      ],
      "text/plain": [
       "    user                                             actual  actual_count\n",
       "1    171             [26612, 249379, 272308, 52383, 356434]             5\n",
       "8    188  [124303, 357246, 586439, 301465, 30697, 117820...             7\n",
       "20   232  [11527, 123661, 122056, 48793, 532234, 48254, ...            18\n",
       "21   233  [297395, 12446, 5613, 20779, 30167, 1190698, 2...            13\n",
       "22   234  [40843, 253158, 34861, 6566, 269092, 10199, 34...            14\n",
       "23   235  [268139, 9334, 57344, 26598, 35652, 116273, 32...             9\n",
       "24   236  [308318, 1334309, 5308, 21012, 1528923, 4950, ...            17\n",
       "27   242  [2389, 1869334, 40152, 118024, 55626, 90396, 1...             8\n",
       "28   243  [1, 470433, 1426384, 1398353, 16840, 5361, 377...            11\n",
       "30   245               [725170, 94272, 899996, 20381, 7618]             5"
      ]
     },
     "execution_count": 149,
     "metadata": {},
     "output_type": "execute_result"
    }
   ],
   "source": [
    "result = data_test.groupby('user')['item'].unique().reset_index()\n",
    "result.columns=['user', 'actual']\n",
    "result['actual'] = result['actual'].apply(lambda x: list(x))\n",
    "result['actual_count'] = result['actual'].apply(lambda x: len(x))\n",
    "result = result.loc[result['actual_count']>=5]\n",
    "print(result.shape)\n",
    "result.head(10)"
   ]
  },
  {
   "cell_type": "code",
   "execution_count": 150,
   "id": "9df5003a-1c08-4ed0-bb71-86e7cf6cb1ef",
   "metadata": {},
   "outputs": [
    {
     "data": {
      "application/vnd.jupyter.widget-view+json": {
       "model_id": "2c60bc08575e42a9bf0a9a04686bc977",
       "version_major": 2,
       "version_minor": 0
      },
      "text/plain": [
       "  0%|          | 0/346976 [00:00<?, ?it/s]"
      ]
     },
     "metadata": {},
     "output_type": "display_data"
    }
   ],
   "source": [
    "model = CosineRecommender(K=5, num_threads=4) # K - кол-во билжайших соседей\n",
    "\n",
    "model.fit(sparse_user_item.T.tocsr(), \n",
    "          show_progress=True)"
   ]
  },
  {
   "cell_type": "code",
   "execution_count": 151,
   "id": "745c0b3a-1b45-45a8-ab2d-2ab87050d3f7",
   "metadata": {},
   "outputs": [
    {
     "data": {
      "text/plain": [
       "[12, 17936, 256275, 10245, 240293]"
      ]
     },
     "execution_count": 151,
     "metadata": {},
     "output_type": "execute_result"
    }
   ],
   "source": [
    "recs = model.recommend(userid=0, \n",
    "                        user_items=sparse_user_item.tocsr(),   # на вход user-item matrix\n",
    "                        N=5, \n",
    "                        filter_already_liked_items=True, \n",
    "                        filter_items=None, \n",
    "                        recalculate_user=False)\n",
    "\n",
    "[id_to_itemid[rec[0]] for rec in recs]"
   ]
  },
  {
   "cell_type": "code",
   "execution_count": 152,
   "id": "4d3b1fda-2bc9-4f90-887e-e4e7b7ad578f",
   "metadata": {},
   "outputs": [
    {
     "name": "stdout",
     "output_type": "stream",
     "text": [
      "CPU times: user 2.49 s, sys: 0 ns, total: 2.49 s\n",
      "Wall time: 2.49 s\n"
     ]
    }
   ],
   "source": [
    "%%time\n",
    "\n",
    "result['recommend'] = result['user'].\\\n",
    "    apply(lambda x: [id_to_itemid[rec[0]] for rec in \n",
    "                    model.recommend(userid=userid_to_id[x], \n",
    "                                    user_items=sparse_user_item,   # на вход user-item matrix\n",
    "                                    N=5, \n",
    "                                    filter_already_liked_items=True, \n",
    "                                    filter_items=None, \n",
    "                                    recalculate_user=True)])"
   ]
  },
  {
   "cell_type": "code",
   "execution_count": 153,
   "id": "f244c339-680b-4570-b296-f6b384579667",
   "metadata": {},
   "outputs": [],
   "source": [
    "result['precision@5'] =  result.apply(lambda row: precision_at_k(row['recommend'], row['actual'], 5), axis=1)"
   ]
  },
  {
   "cell_type": "code",
   "execution_count": 154,
   "id": "eb0ab639-402d-4cfd-8cd3-92a80f907cf8",
   "metadata": {},
   "outputs": [
    {
     "name": "stdout",
     "output_type": "stream",
     "text": [
      "(61937, 5)\n"
     ]
    },
    {
     "data": {
      "text/html": [
       "<div>\n",
       "<style scoped>\n",
       "    .dataframe tbody tr th:only-of-type {\n",
       "        vertical-align: middle;\n",
       "    }\n",
       "\n",
       "    .dataframe tbody tr th {\n",
       "        vertical-align: top;\n",
       "    }\n",
       "\n",
       "    .dataframe thead th {\n",
       "        text-align: right;\n",
       "    }\n",
       "</style>\n",
       "<table border=\"1\" class=\"dataframe\">\n",
       "  <thead>\n",
       "    <tr style=\"text-align: right;\">\n",
       "      <th></th>\n",
       "      <th>user</th>\n",
       "      <th>actual</th>\n",
       "      <th>actual_count</th>\n",
       "      <th>recommend</th>\n",
       "      <th>precision@5</th>\n",
       "    </tr>\n",
       "  </thead>\n",
       "  <tbody>\n",
       "    <tr>\n",
       "      <th>23</th>\n",
       "      <td>235</td>\n",
       "      <td>[268139, 9334, 57344, 26598, 35652, 116273, 32...</td>\n",
       "      <td>9</td>\n",
       "      <td>[324604, 8327, 23185, 8346, 903291]</td>\n",
       "      <td>0.2</td>\n",
       "    </tr>\n",
       "    <tr>\n",
       "      <th>36</th>\n",
       "      <td>260</td>\n",
       "      <td>[23578, 16060, 283791, 328346, 713934, 1691250...</td>\n",
       "      <td>16</td>\n",
       "      <td>[439155, 272075, 416677, 1357235, 326471]</td>\n",
       "      <td>0.2</td>\n",
       "    </tr>\n",
       "    <tr>\n",
       "      <th>38</th>\n",
       "      <td>263</td>\n",
       "      <td>[199425, 34334, 69308, 980673, 89019]</td>\n",
       "      <td>5</td>\n",
       "      <td>[5897, 5914, 184088, 2109029, 980673]</td>\n",
       "      <td>0.2</td>\n",
       "    </tr>\n",
       "    <tr>\n",
       "      <th>58</th>\n",
       "      <td>291</td>\n",
       "      <td>[139204, 16460, 17446, 106701, 6137, 390376, 1...</td>\n",
       "      <td>8</td>\n",
       "      <td>[1271306, 150269, 11165, 146947, 31343]</td>\n",
       "      <td>0.2</td>\n",
       "    </tr>\n",
       "    <tr>\n",
       "      <th>76</th>\n",
       "      <td>324</td>\n",
       "      <td>[1651837, 738145, 1205797, 380549, 99837, 52992]</td>\n",
       "      <td>6</td>\n",
       "      <td>[380549, 1651837, 1082943, 738145, 547019]</td>\n",
       "      <td>0.6</td>\n",
       "    </tr>\n",
       "    <tr>\n",
       "      <th>88</th>\n",
       "      <td>344</td>\n",
       "      <td>[9428, 10845, 20779, 1553876, 23802, 1672040, ...</td>\n",
       "      <td>22</td>\n",
       "      <td>[248061, 2120183, 463933, 310588, 409517]</td>\n",
       "      <td>0.2</td>\n",
       "    </tr>\n",
       "    <tr>\n",
       "      <th>119</th>\n",
       "      <td>395</td>\n",
       "      <td>[11177, 23802, 1525, 1807794, 33259, 1398353, ...</td>\n",
       "      <td>11</td>\n",
       "      <td>[283791, 10668, 250688, 439155, 234344]</td>\n",
       "      <td>0.2</td>\n",
       "    </tr>\n",
       "    <tr>\n",
       "      <th>125</th>\n",
       "      <td>402</td>\n",
       "      <td>[30060, 11462, 353219, 5721, 7449]</td>\n",
       "      <td>5</td>\n",
       "      <td>[246777, 283791, 570219, 353219, 1133419]</td>\n",
       "      <td>0.2</td>\n",
       "    </tr>\n",
       "    <tr>\n",
       "      <th>181</th>\n",
       "      <td>480</td>\n",
       "      <td>[325010, 254629, 63760, 43985, 42326, 3556, 23...</td>\n",
       "      <td>7</td>\n",
       "      <td>[23802, 1271306, 16234, 1463117, 953670]</td>\n",
       "      <td>0.2</td>\n",
       "    </tr>\n",
       "    <tr>\n",
       "      <th>183</th>\n",
       "      <td>483</td>\n",
       "      <td>[1656235, 1271049, 245538, 129798, 23802, 1088...</td>\n",
       "      <td>10</td>\n",
       "      <td>[639595, 1271163, 105664, 174962, 19734]</td>\n",
       "      <td>0.2</td>\n",
       "    </tr>\n",
       "    <tr>\n",
       "      <th>222</th>\n",
       "      <td>558</td>\n",
       "      <td>[118024, 851628, 921085, 2, 1670206]</td>\n",
       "      <td>5</td>\n",
       "      <td>[2, 10668, 815486, 973547, 900938]</td>\n",
       "      <td>0.2</td>\n",
       "    </tr>\n",
       "    <tr>\n",
       "      <th>242</th>\n",
       "      <td>591</td>\n",
       "      <td>[7743, 1553818, 35454, 2737, 312117, 2259, 254...</td>\n",
       "      <td>9</td>\n",
       "      <td>[1, 2737, 268554, 867330, 11093]</td>\n",
       "      <td>0.2</td>\n",
       "    </tr>\n",
       "    <tr>\n",
       "      <th>270</th>\n",
       "      <td>641</td>\n",
       "      <td>[326364, 318910, 115034, 1820646, 13988, 36757...</td>\n",
       "      <td>10</td>\n",
       "      <td>[1180451, 68765, 432910, 1820646, 211861]</td>\n",
       "      <td>0.2</td>\n",
       "    </tr>\n",
       "    <tr>\n",
       "      <th>314</th>\n",
       "      <td>742</td>\n",
       "      <td>[248061, 3731, 439155, 283791, 7779, 327850, 1...</td>\n",
       "      <td>9</td>\n",
       "      <td>[10668, 416677, 272075, 1377045, 11169]</td>\n",
       "      <td>0.2</td>\n",
       "    </tr>\n",
       "    <tr>\n",
       "      <th>342</th>\n",
       "      <td>807</td>\n",
       "      <td>[912636, 1188181, 1271429, 774566, 852180, 127...</td>\n",
       "      <td>8</td>\n",
       "      <td>[1593016, 1553946, 234657, 236546, 1492112]</td>\n",
       "      <td>0.2</td>\n",
       "    </tr>\n",
       "    <tr>\n",
       "      <th>346</th>\n",
       "      <td>811</td>\n",
       "      <td>[582775, 1271163, 1820452, 1104440, 23274, 417...</td>\n",
       "      <td>9</td>\n",
       "      <td>[2109029, 1271163, 1271263, 904906, 211861]</td>\n",
       "      <td>0.2</td>\n",
       "    </tr>\n",
       "    <tr>\n",
       "      <th>365</th>\n",
       "      <td>844</td>\n",
       "      <td>[3842, 21395, 223131, 283837, 726192, 13219, 2...</td>\n",
       "      <td>12</td>\n",
       "      <td>[2, 195482, 751937, 546444, 1184344]</td>\n",
       "      <td>0.2</td>\n",
       "    </tr>\n",
       "    <tr>\n",
       "      <th>452</th>\n",
       "      <td>1012</td>\n",
       "      <td>[8248, 23802, 401369, 313310, 898602, 38383, 4...</td>\n",
       "      <td>8</td>\n",
       "      <td>[1271306, 235419, 38417, 23802, 659654]</td>\n",
       "      <td>0.2</td>\n",
       "    </tr>\n",
       "    <tr>\n",
       "      <th>465</th>\n",
       "      <td>1030</td>\n",
       "      <td>[1811732, 23844, 11204, 380393, 781043, 23006,...</td>\n",
       "      <td>20</td>\n",
       "      <td>[416677, 1127207, 11177, 252394, 117820]</td>\n",
       "      <td>0.4</td>\n",
       "    </tr>\n",
       "    <tr>\n",
       "      <th>471</th>\n",
       "      <td>1041</td>\n",
       "      <td>[283837, 14288, 1132501, 7640, 246779, 37272, ...</td>\n",
       "      <td>7</td>\n",
       "      <td>[283791, 246779, 439155, 416677, 1640373]</td>\n",
       "      <td>0.2</td>\n",
       "    </tr>\n",
       "  </tbody>\n",
       "</table>\n",
       "</div>"
      ],
      "text/plain": [
       "     user                                             actual  actual_count  \\\n",
       "23    235  [268139, 9334, 57344, 26598, 35652, 116273, 32...             9   \n",
       "36    260  [23578, 16060, 283791, 328346, 713934, 1691250...            16   \n",
       "38    263              [199425, 34334, 69308, 980673, 89019]             5   \n",
       "58    291  [139204, 16460, 17446, 106701, 6137, 390376, 1...             8   \n",
       "76    324   [1651837, 738145, 1205797, 380549, 99837, 52992]             6   \n",
       "88    344  [9428, 10845, 20779, 1553876, 23802, 1672040, ...            22   \n",
       "119   395  [11177, 23802, 1525, 1807794, 33259, 1398353, ...            11   \n",
       "125   402                 [30060, 11462, 353219, 5721, 7449]             5   \n",
       "181   480  [325010, 254629, 63760, 43985, 42326, 3556, 23...             7   \n",
       "183   483  [1656235, 1271049, 245538, 129798, 23802, 1088...            10   \n",
       "222   558               [118024, 851628, 921085, 2, 1670206]             5   \n",
       "242   591  [7743, 1553818, 35454, 2737, 312117, 2259, 254...             9   \n",
       "270   641  [326364, 318910, 115034, 1820646, 13988, 36757...            10   \n",
       "314   742  [248061, 3731, 439155, 283791, 7779, 327850, 1...             9   \n",
       "342   807  [912636, 1188181, 1271429, 774566, 852180, 127...             8   \n",
       "346   811  [582775, 1271163, 1820452, 1104440, 23274, 417...             9   \n",
       "365   844  [3842, 21395, 223131, 283837, 726192, 13219, 2...            12   \n",
       "452  1012  [8248, 23802, 401369, 313310, 898602, 38383, 4...             8   \n",
       "465  1030  [1811732, 23844, 11204, 380393, 781043, 23006,...            20   \n",
       "471  1041  [283837, 14288, 1132501, 7640, 246779, 37272, ...             7   \n",
       "\n",
       "                                       recommend  precision@5  \n",
       "23           [324604, 8327, 23185, 8346, 903291]          0.2  \n",
       "36     [439155, 272075, 416677, 1357235, 326471]          0.2  \n",
       "38         [5897, 5914, 184088, 2109029, 980673]          0.2  \n",
       "58       [1271306, 150269, 11165, 146947, 31343]          0.2  \n",
       "76    [380549, 1651837, 1082943, 738145, 547019]          0.6  \n",
       "88     [248061, 2120183, 463933, 310588, 409517]          0.2  \n",
       "119      [283791, 10668, 250688, 439155, 234344]          0.2  \n",
       "125    [246777, 283791, 570219, 353219, 1133419]          0.2  \n",
       "181     [23802, 1271306, 16234, 1463117, 953670]          0.2  \n",
       "183     [639595, 1271163, 105664, 174962, 19734]          0.2  \n",
       "222           [2, 10668, 815486, 973547, 900938]          0.2  \n",
       "242             [1, 2737, 268554, 867330, 11093]          0.2  \n",
       "270    [1180451, 68765, 432910, 1820646, 211861]          0.2  \n",
       "314      [10668, 416677, 272075, 1377045, 11169]          0.2  \n",
       "342  [1593016, 1553946, 234657, 236546, 1492112]          0.2  \n",
       "346  [2109029, 1271163, 1271263, 904906, 211861]          0.2  \n",
       "365         [2, 195482, 751937, 546444, 1184344]          0.2  \n",
       "452      [1271306, 235419, 38417, 23802, 659654]          0.2  \n",
       "465     [416677, 1127207, 11177, 252394, 117820]          0.4  \n",
       "471    [283791, 246779, 439155, 416677, 1640373]          0.2  "
      ]
     },
     "execution_count": 154,
     "metadata": {},
     "output_type": "execute_result"
    }
   ],
   "source": [
    "print(result.shape)\n",
    "result.loc[result['precision@5'] > 0].head(20)"
   ]
  },
  {
   "cell_type": "code",
   "execution_count": 155,
   "id": "134bf11b-8a8d-4e62-a2fd-576493a16380",
   "metadata": {},
   "outputs": [
    {
     "name": "stdout",
     "output_type": "stream",
     "text": [
      "Итоговая метрика Average Precision@5: 0.06304470671810879\n"
     ]
    }
   ],
   "source": [
    "print('Итоговая метрика Average Precision@5:', result['precision@5'].mean())"
   ]
  },
  {
   "cell_type": "markdown",
   "id": "8ee7eec1-2ced-464b-aca4-a30f6e2d15b7",
   "metadata": {},
   "source": [
    "## Обучение модели на всех данных и сохранение"
   ]
  },
  {
   "cell_type": "code",
   "execution_count": 156,
   "id": "f8675e79-64b4-452e-9e87-f7486bf129ec",
   "metadata": {},
   "outputs": [],
   "source": [
    "person_c = CategoricalDtype(sorted(df.user.unique()), ordered=True)\n",
    "thing_c = CategoricalDtype(sorted(df.item.unique()), ordered=True)\n",
    "\n",
    "row = df.user.astype(person_c).cat.codes\n",
    "col = df.item.astype(thing_c).cat.codes\n",
    "sparse_user_item = csr_matrix((df[\"interaction\"], (row, col)), \\\n",
    "                           shape=(person_c.categories.size, thing_c.categories.size)).tocsr()\n",
    "\n",
    "sparse_user_item = sparse_user_item.astype(np.float64)"
   ]
  },
  {
   "cell_type": "code",
   "execution_count": 157,
   "id": "2b59e576-f5a8-4dd5-8ea0-b3716174153d",
   "metadata": {},
   "outputs": [
    {
     "data": {
      "text/plain": [
       "(11383578.0, (553767, 355565))"
      ]
     },
     "execution_count": 157,
     "metadata": {},
     "output_type": "execute_result"
    }
   ],
   "source": [
    "sparse_user_item.sum(), sparse_user_item.shape"
   ]
  },
  {
   "cell_type": "code",
   "execution_count": 158,
   "id": "b709f895-d5aa-4616-9f5c-4b95fee9e7a6",
   "metadata": {},
   "outputs": [],
   "source": [
    "# перенумеруем пользователей и товары\n",
    "userids = person_c.categories.to_list()\n",
    "itemids = thing_c.categories.to_list()\n",
    "\n",
    "matrix_userids = np.arange(len(userids))\n",
    "matrix_itemids = np.arange(len(itemids))\n",
    "\n",
    "id_to_itemid = dict(zip(matrix_itemids, itemids))\n",
    "id_to_userid = dict(zip(matrix_userids, userids))\n",
    "\n",
    "itemid_to_id = dict(zip(itemids, matrix_itemids))\n",
    "userid_to_id = dict(zip(userids, matrix_userids))"
   ]
  },
  {
   "cell_type": "code",
   "execution_count": 107,
   "id": "2cba5b50-f2c8-40d8-ba06-91cc67a26eb7",
   "metadata": {},
   "outputs": [
    {
     "data": {
      "text/plain": [
       "['model/sparse_user_item']"
      ]
     },
     "execution_count": 107,
     "metadata": {},
     "output_type": "execute_result"
    }
   ],
   "source": [
    "# сохраняем результат перенумерации \n",
    "joblib.dump(id_to_itemid, 'model/id_to_itemid')\n",
    "joblib.dump(id_to_userid, 'model/id_to_userid')\n",
    "joblib.dump(itemid_to_id, 'model/itemid_to_id')\n",
    "joblib.dump(userid_to_id, 'model/userid_to_id')\n",
    "\n",
    "# сохраняем матрицу\n",
    "sparse_user_item\n",
    "joblib.dump(sparse_user_item, 'model/sparse_user_item')"
   ]
  },
  {
   "cell_type": "code",
   "execution_count": 185,
   "id": "1a1f053d-c426-4f0e-9dc8-502bd91c12cd",
   "metadata": {},
   "outputs": [
    {
     "data": {
      "application/vnd.jupyter.widget-view+json": {
       "model_id": "e7d76e403dec4c3f902ed99089bc95c9",
       "version_major": 2,
       "version_minor": 0
      },
      "text/plain": [
       "  0%|          | 0/355565 [00:00<?, ?it/s]"
      ]
     },
     "metadata": {},
     "output_type": "display_data"
    }
   ],
   "source": [
    "model = CosineRecommender(K=5, num_threads=4) \n",
    "\n",
    "model.fit(sparse_user_item.T.tocsr(), \n",
    "          show_progress=True)"
   ]
  },
  {
   "cell_type": "code",
   "execution_count": 186,
   "id": "74ed60b5-eb7b-4ae9-8f09-487b8a319307",
   "metadata": {},
   "outputs": [
    {
     "name": "stdout",
     "output_type": "stream",
     "text": [
      "CPU times: user 318 µs, sys: 16 µs, total: 334 µs\n",
      "Wall time: 264 µs\n"
     ]
    },
    {
     "data": {
      "text/plain": [
       "[862378, 468165, 733184, 2881187, 2884177]"
      ]
     },
     "execution_count": 186,
     "metadata": {},
     "output_type": "execute_result"
    }
   ],
   "source": [
    "%%time\n",
    "recs = model.recommend(userid=userid_to_id[2222], \n",
    "                        user_items=sparse_user_item.tocsr(),   # на вход user-item matrix\n",
    "                        N=5, \n",
    "                        filter_already_liked_items=True, \n",
    "                        filter_items=None, \n",
    "                        recalculate_user=False)\n",
    "\n",
    "[id_to_itemid[rec[0]] for rec in recs]"
   ]
  },
  {
   "cell_type": "code",
   "execution_count": 187,
   "id": "f9c8bce4-526c-436e-9ac3-6e8d40c30b03",
   "metadata": {},
   "outputs": [
    {
     "data": {
      "text/plain": [
       "['model/model_cosine_k5']"
      ]
     },
     "execution_count": 187,
     "metadata": {},
     "output_type": "execute_result"
    }
   ],
   "source": [
    "# сохраняем модель\n",
    "joblib.dump(model, 'model/model_cosine_k5')"
   ]
  },
  {
   "cell_type": "markdown",
   "id": "d6659f81-7a2e-4495-a2e9-44d60b6f8d19",
   "metadata": {},
   "source": [
    "#### Функции для flask"
   ]
  },
  {
   "cell_type": "code",
   "execution_count": 73,
   "id": "050746a1-23b0-4c5a-b3fd-124f9d36f943",
   "metadata": {},
   "outputs": [
    {
     "name": "stdout",
     "output_type": "stream",
     "text": [
      "[853656, 490513, 463397, 377311, 656324]\n",
      "[1011857, 1203734, 6316, 91208, 80708]\n",
      "[]\n"
     ]
    }
   ],
   "source": [
    "def model_predictions(user_id):\n",
    "    try:\n",
    "        id = userid_to_id[user_id]\n",
    "    except:\n",
    "        return [] # для пользователей о ком ничего не делаем рекомендаций. В будущем можно будет рекомендовать топ или собирать их предпочтения\n",
    "    \n",
    "    recs = model.recommend(userid=id, \n",
    "                        user_items=sparse_user_item.tocsr(),   # на вход user-item matrix\n",
    "                        N=5, \n",
    "                        filter_already_liked_items=True, \n",
    "                        filter_items=None, \n",
    "                        recalculate_user=False)\n",
    "    return [id_to_itemid[rec[0]] for rec in recs]\n",
    "  \n",
    "print(model_predictions(user_id=1188))\n",
    "print(model_predictions(user_id=1111))\n",
    "print(model_predictions(user_id=1133333333333333388))"
   ]
  },
  {
   "cell_type": "code",
   "execution_count": 129,
   "id": "b267f681-8f36-48a0-b4c3-170ae7ee6bdf",
   "metadata": {
    "tags": []
   },
   "outputs": [
    {
     "name": "stdout",
     "output_type": "stream",
     "text": [
      "CPU times: user 539 ms, sys: 9.74 ms, total: 549 ms\n",
      "Wall time: 543 ms\n"
     ]
    },
    {
     "data": {
      "text/plain": [
       "[{'id': '853656',\n",
       "  'title': 'Капитанская дочка. Дубровский. Повести покойного Ивана Петровича Белкина',\n",
       "  'author': 'Пушкин Александр Сергеевич'},\n",
       " {'id': '490513', 'title': 'Здравствуй, белолапый!', 'author': nan},\n",
       " {'id': '463397',\n",
       "  'title': 'Трудный возраст и 6 \"Б\"',\n",
       "  'author': 'Матвеева Людмила Григорьевна'},\n",
       " {'id': '377311',\n",
       "  'title': 'Тимошкин ковш',\n",
       "  'author': 'Беляков Иван Васильевич'},\n",
       " {'id': '656324',\n",
       "  'title': 'Билеты в цирк',\n",
       "  'author': 'Аксенова Анна Сергеевна'}]"
      ]
     },
     "execution_count": 129,
     "metadata": {},
     "output_type": "execute_result"
    }
   ],
   "source": [
    "%%time\n",
    "def get_json_books(predictions: [int]):\n",
    "    result = []\n",
    "    for pred in predictions:\n",
    "        id = str(pred)\n",
    "        book = books.loc[books['recId'] == id]\n",
    "        title = book['title'].values[0]\n",
    "        aut = book['aut'].values[0]\n",
    "        result.append({\"id\": id, \"title\": title, \"author\": aut})\n",
    "    return result\n",
    "        \n",
    "get_json_books([853656, 490513, 463397, 377311, 656324])"
   ]
  },
  {
   "cell_type": "code",
   "execution_count": 134,
   "id": "4636c94d-be13-4a0a-8b0a-38a9b25b0522",
   "metadata": {},
   "outputs": [
    {
     "name": "stdout",
     "output_type": "stream",
     "text": [
      "CPU times: user 332 ms, sys: 76 µs, total: 332 ms\n",
      "Wall time: 329 ms\n"
     ]
    },
    {
     "data": {
      "text/plain": [
       "[{'id': '853656',\n",
       "  'title': 'Капитанская дочка. Дубровский. Повести покойного Ивана Петровича Белкина',\n",
       "  'author': 'Пушкин Александр Сергеевич'},\n",
       " {'id': '490513', 'title': 'Здравствуй, белолапый!', 'author': nan},\n",
       " {'id': '463397',\n",
       "  'title': 'Трудный возраст и 6 \"Б\"',\n",
       "  'author': 'Матвеева Людмила Григорьевна'},\n",
       " {'id': '377311',\n",
       "  'title': 'Тимошкин ковш',\n",
       "  'author': 'Беляков Иван Васильевич'},\n",
       " {'id': '656324',\n",
       "  'title': 'Билеты в цирк',\n",
       "  'author': 'Аксенова Анна Сергеевна'}]"
      ]
     },
     "execution_count": 134,
     "metadata": {},
     "output_type": "execute_result"
    }
   ],
   "source": [
    "%%time\n",
    "def get_json_books2(predictions: [int]):\n",
    "    result = []\n",
    "    for pred in predictions:\n",
    "        id = str(pred)\n",
    "        b#ook = books.loc[books['recId'] == id]\n",
    "        title = books.loc[books['recId'] == id, ['title', 'aut']]\n",
    "        #aut = book['aut'].values[0]\n",
    "        result.append({\"id\": id, \"title\": title, \"author\": 1})\n",
    "    return result\n",
    "\n",
    "get_json_books([853656, 490513, 463397, 377311, 656324])"
   ]
  },
  {
   "cell_type": "code",
   "execution_count": 122,
   "id": "38763b6b-4c33-4dc2-b1e3-502e74516d7b",
   "metadata": {
    "collapsed": true,
    "jupyter": {
     "outputs_hidden": true
    },
    "tags": []
   },
   "outputs": [
    {
     "data": {
      "text/plain": [
       "[{'id': '12555', 'title': 'Семья 3х1', 'author': 'Майорош Нора'},\n",
       " {'id': '94424',\n",
       "  'title': 'Неизвестный цветок',\n",
       "  'author': 'Платонов Андрей Платонович'},\n",
       " {'id': '112234', 'title': 'Мальчики', 'author': 'Чехов Антон Павлович'},\n",
       " {'id': '264533', 'title': 'Кусака', 'author': 'Андреев Леонид'},\n",
       " {'id': '114610',\n",
       "  'title': 'Приключения Незнайки и его друзей , Незнайка в Солнечном городе , Незнайка на Луне',\n",
       "  'author': 'Носов Николай Николаевич'},\n",
       " {'id': '256134',\n",
       "  'title': 'Этажи леса',\n",
       "  'author': 'Пришвин Михаил Михайлович'},\n",
       " {'id': '1301',\n",
       "  'title': 'Стрижонок Скрип',\n",
       "  'author': 'Астафьев Виктор Петрович'},\n",
       " {'id': '269023', 'title': 'Ю-Ю', 'author': 'Куприн Александр Иванович'},\n",
       " {'id': '285528',\n",
       "  'title': 'Приемыш',\n",
       "  'author': 'Мамин-Сибиряк Дмитрий Наркисович'},\n",
       " {'id': '1526',\n",
       "  'title': 'Чей нос лучше?',\n",
       "  'author': 'Бианки Виталий Валентинович'},\n",
       " {'id': '33449',\n",
       "  'title': 'Карлссон, который живет на крыше',\n",
       "  'author': 'Линдгрен Астрид'},\n",
       " {'id': '2878',\n",
       "  'title': 'Карлсон, который живет на крыше, опять прилетел',\n",
       "  'author': 'Линдгрен Астрид'},\n",
       " {'id': '21174',\n",
       "  'title': 'Карлсон, который живет на крыше, проказничает опять',\n",
       "  'author': 'Линдгрен Астрид'}]"
      ]
     },
     "execution_count": 122,
     "metadata": {},
     "output_type": "execute_result"
    }
   ],
   "source": [
    "def get_history(use_id):\n",
    "    return list(interactions.loc[interactions['user_id'] == 1188]['item_id'].values)\n",
    "                "
   ]
  },
  {
   "cell_type": "markdown",
   "id": "3ba1dee0-5448-4e9c-ac5d-fa8d7c2e27b2",
   "metadata": {},
   "source": [
    "## Заполняем Ексель"
   ]
  },
  {
   "cell_type": "code",
   "execution_count": 200,
   "id": "0d4c9a3b-4913-467f-b9da-4a0f31d50ba5",
   "metadata": {},
   "outputs": [
    {
     "name": "stdout",
     "output_type": "stream",
     "text": [
      "(553767, 3)\n"
     ]
    },
    {
     "data": {
      "text/html": [
       "<div>\n",
       "<style scoped>\n",
       "    .dataframe tbody tr th:only-of-type {\n",
       "        vertical-align: middle;\n",
       "    }\n",
       "\n",
       "    .dataframe tbody tr th {\n",
       "        vertical-align: top;\n",
       "    }\n",
       "\n",
       "    .dataframe thead th {\n",
       "        text-align: right;\n",
       "    }\n",
       "</style>\n",
       "<table border=\"1\" class=\"dataframe\">\n",
       "  <thead>\n",
       "    <tr style=\"text-align: right;\">\n",
       "      <th></th>\n",
       "      <th>user</th>\n",
       "      <th>actual</th>\n",
       "      <th>actual_count</th>\n",
       "    </tr>\n",
       "  </thead>\n",
       "  <tbody>\n",
       "    <tr>\n",
       "      <th>0</th>\n",
       "      <td>163</td>\n",
       "      <td>[37437, 199565, 6, 841833, 428001, 2691]</td>\n",
       "      <td>6</td>\n",
       "    </tr>\n",
       "    <tr>\n",
       "      <th>1</th>\n",
       "      <td>165</td>\n",
       "      <td>[770278, 11451, 2359]</td>\n",
       "      <td>3</td>\n",
       "    </tr>\n",
       "    <tr>\n",
       "      <th>2</th>\n",
       "      <td>170</td>\n",
       "      <td>[206050, 309490, 396723]</td>\n",
       "      <td>3</td>\n",
       "    </tr>\n",
       "    <tr>\n",
       "      <th>3</th>\n",
       "      <td>171</td>\n",
       "      <td>[26612, 706657, 112793, 357252, 356758, 13182,...</td>\n",
       "      <td>35</td>\n",
       "    </tr>\n",
       "    <tr>\n",
       "      <th>4</th>\n",
       "      <td>173</td>\n",
       "      <td>[55947, 100740]</td>\n",
       "      <td>2</td>\n",
       "    </tr>\n",
       "  </tbody>\n",
       "</table>\n",
       "</div>"
      ],
      "text/plain": [
       "   user                                             actual  actual_count\n",
       "0   163           [37437, 199565, 6, 841833, 428001, 2691]             6\n",
       "1   165                              [770278, 11451, 2359]             3\n",
       "2   170                           [206050, 309490, 396723]             3\n",
       "3   171  [26612, 706657, 112793, 357252, 356758, 13182,...            35\n",
       "4   173                                    [55947, 100740]             2"
      ]
     },
     "execution_count": 200,
     "metadata": {},
     "output_type": "execute_result"
    }
   ],
   "source": [
    "result = df.groupby('user')['item'].unique().reset_index()\n",
    "result.columns=['user', 'actual']\n",
    "result['actual'] = result['actual'].apply(lambda x: list(x))\n",
    "result['actual_count'] = result['actual'].apply(lambda x: len(x))\n",
    "print(result.shape)\n",
    "result.head()"
   ]
  },
  {
   "cell_type": "code",
   "execution_count": 201,
   "id": "fc4d9c37-a89b-4d92-a4c4-32be5d11bc2d",
   "metadata": {},
   "outputs": [
    {
     "name": "stdout",
     "output_type": "stream",
     "text": [
      "CPU times: user 13.8 s, sys: 205 ms, total: 14 s\n",
      "Wall time: 14 s\n"
     ]
    },
    {
     "data": {
      "text/html": [
       "<div>\n",
       "<style scoped>\n",
       "    .dataframe tbody tr th:only-of-type {\n",
       "        vertical-align: middle;\n",
       "    }\n",
       "\n",
       "    .dataframe tbody tr th {\n",
       "        vertical-align: top;\n",
       "    }\n",
       "\n",
       "    .dataframe thead th {\n",
       "        text-align: right;\n",
       "    }\n",
       "</style>\n",
       "<table border=\"1\" class=\"dataframe\">\n",
       "  <thead>\n",
       "    <tr style=\"text-align: right;\">\n",
       "      <th></th>\n",
       "      <th>user</th>\n",
       "      <th>actual</th>\n",
       "      <th>actual_count</th>\n",
       "      <th>recommend</th>\n",
       "    </tr>\n",
       "  </thead>\n",
       "  <tbody>\n",
       "    <tr>\n",
       "      <th>0</th>\n",
       "      <td>163</td>\n",
       "      <td>[37437, 199565, 6, 841833, 428001, 2691]</td>\n",
       "      <td>6</td>\n",
       "      <td>[12, 9, 15, 46262, 240293]</td>\n",
       "    </tr>\n",
       "    <tr>\n",
       "      <th>1</th>\n",
       "      <td>165</td>\n",
       "      <td>[770278, 11451, 2359]</td>\n",
       "      <td>3</td>\n",
       "      <td>[48446, 120422, 1327457, 1702171, 1372]</td>\n",
       "    </tr>\n",
       "    <tr>\n",
       "      <th>2</th>\n",
       "      <td>170</td>\n",
       "      <td>[206050, 309490, 396723]</td>\n",
       "      <td>3</td>\n",
       "      <td>[540264, 1133107, 1059405, 813010, 626663]</td>\n",
       "    </tr>\n",
       "    <tr>\n",
       "      <th>3</th>\n",
       "      <td>171</td>\n",
       "      <td>[26612, 706657, 112793, 357252, 356758, 13182,...</td>\n",
       "      <td>35</td>\n",
       "      <td>[1104471, 1390935, 257038, 324390, 1010548]</td>\n",
       "    </tr>\n",
       "    <tr>\n",
       "      <th>4</th>\n",
       "      <td>173</td>\n",
       "      <td>[55947, 100740]</td>\n",
       "      <td>2</td>\n",
       "      <td>[1460021, 595937, 813325, 826921, 962896]</td>\n",
       "    </tr>\n",
       "  </tbody>\n",
       "</table>\n",
       "</div>"
      ],
      "text/plain": [
       "   user                                             actual  actual_count  \\\n",
       "0   163           [37437, 199565, 6, 841833, 428001, 2691]             6   \n",
       "1   165                              [770278, 11451, 2359]             3   \n",
       "2   170                           [206050, 309490, 396723]             3   \n",
       "3   171  [26612, 706657, 112793, 357252, 356758, 13182,...            35   \n",
       "4   173                                    [55947, 100740]             2   \n",
       "\n",
       "                                     recommend  \n",
       "0                   [12, 9, 15, 46262, 240293]  \n",
       "1      [48446, 120422, 1327457, 1702171, 1372]  \n",
       "2   [540264, 1133107, 1059405, 813010, 626663]  \n",
       "3  [1104471, 1390935, 257038, 324390, 1010548]  \n",
       "4    [1460021, 595937, 813325, 826921, 962896]  "
      ]
     },
     "execution_count": 201,
     "metadata": {},
     "output_type": "execute_result"
    }
   ],
   "source": [
    "%%time\n",
    "\n",
    "result['recommend'] = result['user'].\\\n",
    "    apply(lambda x: [id_to_itemid[rec[0]] for rec in \n",
    "                    model.recommend(userid=userid_to_id[x], \n",
    "                                    user_items=sparse_user_item,   # на вход user-item matrix\n",
    "                                    N=5, \n",
    "                                    filter_already_liked_items=True, \n",
    "                                    filter_items=None, \n",
    "                                    recalculate_user=True)])\n",
    "\n",
    "result.head()"
   ]
  },
  {
   "cell_type": "code",
   "execution_count": 202,
   "id": "9296a859-05b8-4041-8289-97b04733992b",
   "metadata": {},
   "outputs": [],
   "source": [
    "result['books'] = result['recommend'].apply(lambda x: len(x))"
   ]
  },
  {
   "cell_type": "code",
   "execution_count": 208,
   "id": "494e7e49-4d24-4c54-a738-9660bb584d5a",
   "metadata": {},
   "outputs": [
    {
     "data": {
      "text/plain": [
       "[248061, 10668, 2, 117820, 283791]"
      ]
     },
     "execution_count": 208,
     "metadata": {},
     "output_type": "execute_result"
    }
   ],
   "source": [
    "def popularity_recommendation(data, n=5):\n",
    "    \"\"\"Топ-n популярных товаров\"\"\"\n",
    "    \n",
    "    popular = data.groupby('item')['interaction'].sum().reset_index()\n",
    "    popular.sort_values('interaction', ascending=False, inplace=True)\n",
    "    \n",
    "    recs = popular.head(n).item\n",
    "    \n",
    "    return recs.tolist()\n",
    "\n",
    "popularity_recommendation(df, 5)"
   ]
  },
  {
   "cell_type": "code",
   "execution_count": 211,
   "id": "1afa2259-43fc-4069-8021-60e370173489",
   "metadata": {},
   "outputs": [],
   "source": [
    "result['book_id_1'] = result['recommend'].apply(lambda x: x[0])\n",
    "result['book_id_2'] = result['recommend'].apply(lambda x: x[1] if len(x)>=2 else 248061)\n",
    "result['book_id_3'] = result['recommend'].apply(lambda x: x[2] if len(x)>=3 else 10668)\n",
    "result['book_id_4'] = result['recommend'].apply(lambda x: x[3] if len(x)>=4 else 117820)\n",
    "result['book_id_5'] = result['recommend'].apply(lambda x: x[4] if len(x)>=5 else 2)"
   ]
  },
  {
   "cell_type": "code",
   "execution_count": 210,
   "id": "f136bc30-d76a-4b98-8181-6b238ec0bd7c",
   "metadata": {},
   "outputs": [
    {
     "data": {
      "text/html": [
       "<div>\n",
       "<style scoped>\n",
       "    .dataframe tbody tr th:only-of-type {\n",
       "        vertical-align: middle;\n",
       "    }\n",
       "\n",
       "    .dataframe tbody tr th {\n",
       "        vertical-align: top;\n",
       "    }\n",
       "\n",
       "    .dataframe thead th {\n",
       "        text-align: right;\n",
       "    }\n",
       "</style>\n",
       "<table border=\"1\" class=\"dataframe\">\n",
       "  <thead>\n",
       "    <tr style=\"text-align: right;\">\n",
       "      <th></th>\n",
       "      <th>user</th>\n",
       "      <th>actual</th>\n",
       "      <th>actual_count</th>\n",
       "      <th>recommend</th>\n",
       "      <th>books</th>\n",
       "      <th>book_id_1</th>\n",
       "      <th>book_id_2</th>\n",
       "      <th>book_id_3</th>\n",
       "      <th>book_id_4</th>\n",
       "      <th>book_id_5</th>\n",
       "    </tr>\n",
       "  </thead>\n",
       "  <tbody>\n",
       "    <tr>\n",
       "      <th>0</th>\n",
       "      <td>163</td>\n",
       "      <td>[37437, 199565, 6, 841833, 428001, 2691]</td>\n",
       "      <td>6</td>\n",
       "      <td>[12, 9, 15, 46262, 240293]</td>\n",
       "      <td>5</td>\n",
       "      <td>12</td>\n",
       "      <td>9</td>\n",
       "      <td>15</td>\n",
       "      <td>46262</td>\n",
       "      <td>240293</td>\n",
       "    </tr>\n",
       "    <tr>\n",
       "      <th>1</th>\n",
       "      <td>165</td>\n",
       "      <td>[770278, 11451, 2359]</td>\n",
       "      <td>3</td>\n",
       "      <td>[48446, 120422, 1327457, 1702171, 1372]</td>\n",
       "      <td>5</td>\n",
       "      <td>48446</td>\n",
       "      <td>120422</td>\n",
       "      <td>1327457</td>\n",
       "      <td>1702171</td>\n",
       "      <td>1372</td>\n",
       "    </tr>\n",
       "    <tr>\n",
       "      <th>2</th>\n",
       "      <td>170</td>\n",
       "      <td>[206050, 309490, 396723]</td>\n",
       "      <td>3</td>\n",
       "      <td>[540264, 1133107, 1059405, 813010, 626663]</td>\n",
       "      <td>5</td>\n",
       "      <td>540264</td>\n",
       "      <td>1133107</td>\n",
       "      <td>1059405</td>\n",
       "      <td>813010</td>\n",
       "      <td>626663</td>\n",
       "    </tr>\n",
       "    <tr>\n",
       "      <th>3</th>\n",
       "      <td>171</td>\n",
       "      <td>[26612, 706657, 112793, 357252, 356758, 13182,...</td>\n",
       "      <td>35</td>\n",
       "      <td>[1104471, 1390935, 257038, 324390, 1010548]</td>\n",
       "      <td>5</td>\n",
       "      <td>1104471</td>\n",
       "      <td>1390935</td>\n",
       "      <td>257038</td>\n",
       "      <td>324390</td>\n",
       "      <td>1010548</td>\n",
       "    </tr>\n",
       "    <tr>\n",
       "      <th>4</th>\n",
       "      <td>173</td>\n",
       "      <td>[55947, 100740]</td>\n",
       "      <td>2</td>\n",
       "      <td>[1460021, 595937, 813325, 826921, 962896]</td>\n",
       "      <td>5</td>\n",
       "      <td>1460021</td>\n",
       "      <td>595937</td>\n",
       "      <td>813325</td>\n",
       "      <td>826921</td>\n",
       "      <td>962896</td>\n",
       "    </tr>\n",
       "  </tbody>\n",
       "</table>\n",
       "</div>"
      ],
      "text/plain": [
       "   user                                             actual  actual_count  \\\n",
       "0   163           [37437, 199565, 6, 841833, 428001, 2691]             6   \n",
       "1   165                              [770278, 11451, 2359]             3   \n",
       "2   170                           [206050, 309490, 396723]             3   \n",
       "3   171  [26612, 706657, 112793, 357252, 356758, 13182,...            35   \n",
       "4   173                                    [55947, 100740]             2   \n",
       "\n",
       "                                     recommend  books  book_id_1  book_id_2  \\\n",
       "0                   [12, 9, 15, 46262, 240293]      5         12          9   \n",
       "1      [48446, 120422, 1327457, 1702171, 1372]      5      48446     120422   \n",
       "2   [540264, 1133107, 1059405, 813010, 626663]      5     540264    1133107   \n",
       "3  [1104471, 1390935, 257038, 324390, 1010548]      5    1104471    1390935   \n",
       "4    [1460021, 595937, 813325, 826921, 962896]      5    1460021     595937   \n",
       "\n",
       "   book_id_3  book_id_4  book_id_5  \n",
       "0         15      46262     240293  \n",
       "1    1327457    1702171       1372  \n",
       "2    1059405     813010     626663  \n",
       "3     257038     324390    1010548  \n",
       "4     813325     826921     962896  "
      ]
     },
     "execution_count": 210,
     "metadata": {},
     "output_type": "execute_result"
    }
   ],
   "source": [
    "result.shape\n",
    "result.head()"
   ]
  },
  {
   "cell_type": "code",
   "execution_count": 212,
   "id": "4b0decaf-f076-44eb-b5dd-4576a5441202",
   "metadata": {},
   "outputs": [],
   "source": [
    "result.drop(['actual', 'actual_count', 'recommend', 'books'], axis=1, inplace=True)\n",
    "result.rename(columns={'user' : 'user_id'}, inplace=True)"
   ]
  },
  {
   "cell_type": "code",
   "execution_count": 213,
   "id": "49a4d1c5-ce4b-465f-95bf-ce6fbf049c98",
   "metadata": {},
   "outputs": [
    {
     "data": {
      "text/html": [
       "<div>\n",
       "<style scoped>\n",
       "    .dataframe tbody tr th:only-of-type {\n",
       "        vertical-align: middle;\n",
       "    }\n",
       "\n",
       "    .dataframe tbody tr th {\n",
       "        vertical-align: top;\n",
       "    }\n",
       "\n",
       "    .dataframe thead th {\n",
       "        text-align: right;\n",
       "    }\n",
       "</style>\n",
       "<table border=\"1\" class=\"dataframe\">\n",
       "  <thead>\n",
       "    <tr style=\"text-align: right;\">\n",
       "      <th></th>\n",
       "      <th>user_id</th>\n",
       "      <th>book_id_1</th>\n",
       "      <th>book_id_2</th>\n",
       "      <th>book_id_3</th>\n",
       "      <th>book_id_4</th>\n",
       "      <th>book_id_5</th>\n",
       "    </tr>\n",
       "  </thead>\n",
       "  <tbody>\n",
       "    <tr>\n",
       "      <th>0</th>\n",
       "      <td>163</td>\n",
       "      <td>12</td>\n",
       "      <td>9</td>\n",
       "      <td>15</td>\n",
       "      <td>46262</td>\n",
       "      <td>240293</td>\n",
       "    </tr>\n",
       "    <tr>\n",
       "      <th>1</th>\n",
       "      <td>165</td>\n",
       "      <td>48446</td>\n",
       "      <td>120422</td>\n",
       "      <td>1327457</td>\n",
       "      <td>1702171</td>\n",
       "      <td>1372</td>\n",
       "    </tr>\n",
       "    <tr>\n",
       "      <th>2</th>\n",
       "      <td>170</td>\n",
       "      <td>540264</td>\n",
       "      <td>1133107</td>\n",
       "      <td>1059405</td>\n",
       "      <td>813010</td>\n",
       "      <td>626663</td>\n",
       "    </tr>\n",
       "    <tr>\n",
       "      <th>3</th>\n",
       "      <td>171</td>\n",
       "      <td>1104471</td>\n",
       "      <td>1390935</td>\n",
       "      <td>257038</td>\n",
       "      <td>324390</td>\n",
       "      <td>1010548</td>\n",
       "    </tr>\n",
       "    <tr>\n",
       "      <th>4</th>\n",
       "      <td>173</td>\n",
       "      <td>1460021</td>\n",
       "      <td>595937</td>\n",
       "      <td>813325</td>\n",
       "      <td>826921</td>\n",
       "      <td>962896</td>\n",
       "    </tr>\n",
       "  </tbody>\n",
       "</table>\n",
       "</div>"
      ],
      "text/plain": [
       "   user_id  book_id_1  book_id_2  book_id_3  book_id_4  book_id_5\n",
       "0      163         12          9         15      46262     240293\n",
       "1      165      48446     120422    1327457    1702171       1372\n",
       "2      170     540264    1133107    1059405     813010     626663\n",
       "3      171    1104471    1390935     257038     324390    1010548\n",
       "4      173    1460021     595937     813325     826921     962896"
      ]
     },
     "execution_count": 213,
     "metadata": {},
     "output_type": "execute_result"
    }
   ],
   "source": [
    "result.head()"
   ]
  },
  {
   "cell_type": "code",
   "execution_count": 216,
   "id": "0d2859c0-5da6-4140-be6c-a64d48118b88",
   "metadata": {},
   "outputs": [],
   "source": [
    "result.to_csv('recommendations.csv', encoding='utf-8', index=False)"
   ]
  },
  {
   "cell_type": "code",
   "execution_count": null,
   "id": "b81b9874-c94d-465c-8763-bc66012532ce",
   "metadata": {},
   "outputs": [],
   "source": []
  }
 ],
 "metadata": {
  "environment": {
   "name": "common-cpu.m81",
   "type": "gcloud",
   "uri": "gcr.io/deeplearning-platform-release/base-cpu:m81"
  },
  "kernelspec": {
   "display_name": "Python 3",
   "language": "python",
   "name": "python3"
  },
  "language_info": {
   "codemirror_mode": {
    "name": "ipython",
    "version": 3
   },
   "file_extension": ".py",
   "mimetype": "text/x-python",
   "name": "python",
   "nbconvert_exporter": "python",
   "pygments_lexer": "ipython3",
   "version": "3.7.10"
  }
 },
 "nbformat": 4,
 "nbformat_minor": 5
}

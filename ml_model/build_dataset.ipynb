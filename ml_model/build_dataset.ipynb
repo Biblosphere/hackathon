{
 "cells": [
  {
   "cell_type": "markdown",
   "id": "39a822dc-ab26-4e02-9b2f-80e091c22386",
   "metadata": {},
   "source": [
    "# Собираем и чистим датасет для обучения"
   ]
  },
  {
   "cell_type": "code",
   "execution_count": 2,
   "id": "3a3eb8cd-e405-4de0-ad23-257adf785f6d",
   "metadata": {},
   "outputs": [],
   "source": [
    "import pandas as pd\n",
    "import numpy as np\n",
    "\n",
    "dir = 'data_init/'"
   ]
  },
  {
   "cell_type": "markdown",
   "id": "fbf90c38-0c77-495b-8db8-575ec816c0b3",
   "metadata": {},
   "source": [
    "## Books"
   ]
  },
  {
   "cell_type": "code",
   "execution_count": 102,
   "id": "64dad687-ff13-4fdb-9b16-441164d13e14",
   "metadata": {},
   "outputs": [
    {
     "name": "stdout",
     "output_type": "stream",
     "text": [
      "(2179125, 13)\n"
     ]
    },
    {
     "data": {
      "text/html": [
       "<div>\n",
       "<style scoped>\n",
       "    .dataframe tbody tr th:only-of-type {\n",
       "        vertical-align: middle;\n",
       "    }\n",
       "\n",
       "    .dataframe tbody tr th {\n",
       "        vertical-align: top;\n",
       "    }\n",
       "\n",
       "    .dataframe thead th {\n",
       "        text-align: right;\n",
       "    }\n",
       "</style>\n",
       "<table border=\"1\" class=\"dataframe\">\n",
       "  <thead>\n",
       "    <tr style=\"text-align: right;\">\n",
       "      <th></th>\n",
       "      <th>recId</th>\n",
       "      <th>aut</th>\n",
       "      <th>title</th>\n",
       "      <th>place</th>\n",
       "      <th>publ</th>\n",
       "      <th>yea</th>\n",
       "      <th>lan</th>\n",
       "      <th>rubrics</th>\n",
       "      <th>person</th>\n",
       "      <th>serial</th>\n",
       "      <th>material</th>\n",
       "      <th>biblevel</th>\n",
       "      <th>ager</th>\n",
       "    </tr>\n",
       "  </thead>\n",
       "  <tbody>\n",
       "    <tr>\n",
       "      <th>0</th>\n",
       "      <td>1</td>\n",
       "      <td>Устинова Татьяна Витальевна</td>\n",
       "      <td>Призрак Канта</td>\n",
       "      <td>Москва</td>\n",
       "      <td>Эксмо</td>\n",
       "      <td>2018</td>\n",
       "      <td>rus</td>\n",
       "      <td>Художественная литература : Российский детектив</td>\n",
       "      <td>NaN</td>\n",
       "      <td>Татьяна Устинова. Первая среди лучших</td>\n",
       "      <td>Текст. материал</td>\n",
       "      <td>Монография</td>\n",
       "      <td>16+</td>\n",
       "    </tr>\n",
       "    <tr>\n",
       "      <th>1</th>\n",
       "      <td>2</td>\n",
       "      <td>NaN</td>\n",
       "      <td>Наука и жизнь</td>\n",
       "      <td>Москва</td>\n",
       "      <td>Редакция журнала «Наука и жизнь»</td>\n",
       "      <td>1938-</td>\n",
       "      <td>rus</td>\n",
       "      <td>Наука. Науковедение</td>\n",
       "      <td>NaN</td>\n",
       "      <td>NaN</td>\n",
       "      <td>Текст. материал</td>\n",
       "      <td>Периодика</td>\n",
       "      <td>12+</td>\n",
       "    </tr>\n",
       "    <tr>\n",
       "      <th>2</th>\n",
       "      <td>3</td>\n",
       "      <td>NaN</td>\n",
       "      <td>Наука и жизнь</td>\n",
       "      <td>NaN</td>\n",
       "      <td>NaN</td>\n",
       "      <td>2018</td>\n",
       "      <td>rus</td>\n",
       "      <td>Наука. Науковедение</td>\n",
       "      <td>NaN</td>\n",
       "      <td>NaN</td>\n",
       "      <td>Текст. материал</td>\n",
       "      <td>Монография</td>\n",
       "      <td>12+</td>\n",
       "    </tr>\n",
       "    <tr>\n",
       "      <th>3</th>\n",
       "      <td>4</td>\n",
       "      <td>NaN</td>\n",
       "      <td>Наука и жизнь</td>\n",
       "      <td>NaN</td>\n",
       "      <td>NaN</td>\n",
       "      <td>2018</td>\n",
       "      <td>rus</td>\n",
       "      <td>Наука. Науковедение</td>\n",
       "      <td>NaN</td>\n",
       "      <td>NaN</td>\n",
       "      <td>Текст. материал</td>\n",
       "      <td>Монография</td>\n",
       "      <td>12+</td>\n",
       "    </tr>\n",
       "    <tr>\n",
       "      <th>4</th>\n",
       "      <td>5</td>\n",
       "      <td>NaN</td>\n",
       "      <td>Наука и жизнь</td>\n",
       "      <td>NaN</td>\n",
       "      <td>NaN</td>\n",
       "      <td>2018</td>\n",
       "      <td>rus</td>\n",
       "      <td>Наука. Науковедение</td>\n",
       "      <td>NaN</td>\n",
       "      <td>NaN</td>\n",
       "      <td>Текст. материал</td>\n",
       "      <td>Монография</td>\n",
       "      <td>12+</td>\n",
       "    </tr>\n",
       "  </tbody>\n",
       "</table>\n",
       "</div>"
      ],
      "text/plain": [
       "   recId                          aut          title   place  \\\n",
       "0      1  Устинова Татьяна Витальевна  Призрак Канта  Москва   \n",
       "1      2                          NaN  Наука и жизнь  Москва   \n",
       "2      3                          NaN  Наука и жизнь     NaN   \n",
       "3      4                          NaN  Наука и жизнь     NaN   \n",
       "4      5                          NaN  Наука и жизнь     NaN   \n",
       "\n",
       "                               publ    yea  lan  \\\n",
       "0                             Эксмо   2018  rus   \n",
       "1  Редакция журнала «Наука и жизнь»  1938-  rus   \n",
       "2                               NaN   2018  rus   \n",
       "3                               NaN   2018  rus   \n",
       "4                               NaN   2018  rus   \n",
       "\n",
       "                                           rubrics person  \\\n",
       "0  Художественная литература : Российский детектив    NaN   \n",
       "1                              Наука. Науковедение    NaN   \n",
       "2                              Наука. Науковедение    NaN   \n",
       "3                              Наука. Науковедение    NaN   \n",
       "4                              Наука. Науковедение    NaN   \n",
       "\n",
       "                                  serial         material    biblevel ager  \n",
       "0  Татьяна Устинова. Первая среди лучших  Текст. материал  Монография  16+  \n",
       "1                                    NaN  Текст. материал   Периодика  12+  \n",
       "2                                    NaN  Текст. материал  Монография  12+  \n",
       "3                                    NaN  Текст. материал  Монография  12+  \n",
       "4                                    NaN  Текст. материал  Монография  12+  "
      ]
     },
     "execution_count": 102,
     "metadata": {},
     "output_type": "execute_result"
    }
   ],
   "source": [
    "data1 = pd.read_csv(dir + 'cat_1.csv', sep=';', encoding='windows-1251')\n",
    "data2 = pd.read_csv(dir + 'cat_2.csv', sep=';', encoding='windows-1251')\n",
    "data3 = pd.read_csv(dir + 'cat_3.csv', sep=';', encoding='windows-1251')\n",
    "\n",
    "data = pd.concat([data1, data2, data3]).reset_index(drop=True)\n",
    "print(data.shape)\n",
    "data.head()"
   ]
  },
  {
   "cell_type": "code",
   "execution_count": 103,
   "id": "2b485cd0-a21e-4d59-8917-0dfc90c2f6b1",
   "metadata": {},
   "outputs": [
    {
     "name": "stdout",
     "output_type": "stream",
     "text": [
      "to delete: 30673\n",
      "data: (2148452, 13)\n"
     ]
    }
   ],
   "source": [
    "# дропаем с пустым названием\n",
    "to_delete = data[data['title'].isna()]\n",
    "print('to delete:', to_delete.shape[0])\n",
    "         \n",
    "books_map = to_delete[['recId']].rename(columns={'recId': 'recId_in'})\n",
    "books_map['recId_out'] = np.nan\n",
    "data.drop(index=to_delete.index, inplace=True)\n",
    "print('data:', data.shape)"
   ]
  },
  {
   "cell_type": "code",
   "execution_count": 104,
   "id": "621781ca-44cd-47a0-82e8-524eb1a35df3",
   "metadata": {},
   "outputs": [],
   "source": [
    "# дропаем ненужные колонки\n",
    "data.drop(['place', 'publ', 'yea', 'lan', 'material', 'biblevel'], axis=1, inplace=True)"
   ]
  },
  {
   "cell_type": "code",
   "execution_count": 105,
   "id": "85293c4c-c4ad-4fbe-b1f5-cd767a09d547",
   "metadata": {},
   "outputs": [
    {
     "data": {
      "text/html": [
       "<div>\n",
       "<style scoped>\n",
       "    .dataframe tbody tr th:only-of-type {\n",
       "        vertical-align: middle;\n",
       "    }\n",
       "\n",
       "    .dataframe tbody tr th {\n",
       "        vertical-align: top;\n",
       "    }\n",
       "\n",
       "    .dataframe thead th {\n",
       "        text-align: right;\n",
       "    }\n",
       "</style>\n",
       "<table border=\"1\" class=\"dataframe\">\n",
       "  <thead>\n",
       "    <tr style=\"text-align: right;\">\n",
       "      <th></th>\n",
       "      <th>recId</th>\n",
       "      <th>aut</th>\n",
       "      <th>title</th>\n",
       "      <th>rubrics</th>\n",
       "      <th>person</th>\n",
       "      <th>serial</th>\n",
       "      <th>ager</th>\n",
       "    </tr>\n",
       "  </thead>\n",
       "  <tbody>\n",
       "    <tr>\n",
       "      <th>0</th>\n",
       "      <td>1</td>\n",
       "      <td>Устинова Татьяна Витальевна</td>\n",
       "      <td>Призрак Канта</td>\n",
       "      <td>Художественная литература : Российский детектив</td>\n",
       "      <td>NaN</td>\n",
       "      <td>Татьяна Устинова. Первая среди лучших</td>\n",
       "      <td>16+</td>\n",
       "    </tr>\n",
       "    <tr>\n",
       "      <th>1</th>\n",
       "      <td>2</td>\n",
       "      <td>NaN</td>\n",
       "      <td>Наука и жизнь</td>\n",
       "      <td>Наука. Науковедение</td>\n",
       "      <td>NaN</td>\n",
       "      <td>NaN</td>\n",
       "      <td>12+</td>\n",
       "    </tr>\n",
       "    <tr>\n",
       "      <th>2</th>\n",
       "      <td>3</td>\n",
       "      <td>NaN</td>\n",
       "      <td>Наука и жизнь</td>\n",
       "      <td>Наука. Науковедение</td>\n",
       "      <td>NaN</td>\n",
       "      <td>NaN</td>\n",
       "      <td>12+</td>\n",
       "    </tr>\n",
       "    <tr>\n",
       "      <th>3</th>\n",
       "      <td>4</td>\n",
       "      <td>NaN</td>\n",
       "      <td>Наука и жизнь</td>\n",
       "      <td>Наука. Науковедение</td>\n",
       "      <td>NaN</td>\n",
       "      <td>NaN</td>\n",
       "      <td>12+</td>\n",
       "    </tr>\n",
       "    <tr>\n",
       "      <th>4</th>\n",
       "      <td>5</td>\n",
       "      <td>NaN</td>\n",
       "      <td>Наука и жизнь</td>\n",
       "      <td>Наука. Науковедение</td>\n",
       "      <td>NaN</td>\n",
       "      <td>NaN</td>\n",
       "      <td>12+</td>\n",
       "    </tr>\n",
       "  </tbody>\n",
       "</table>\n",
       "</div>"
      ],
      "text/plain": [
       "   recId                          aut          title  \\\n",
       "0      1  Устинова Татьяна Витальевна  Призрак Канта   \n",
       "1      2                          NaN  Наука и жизнь   \n",
       "2      3                          NaN  Наука и жизнь   \n",
       "3      4                          NaN  Наука и жизнь   \n",
       "4      5                          NaN  Наука и жизнь   \n",
       "\n",
       "                                           rubrics person  \\\n",
       "0  Художественная литература : Российский детектив    NaN   \n",
       "1                              Наука. Науковедение    NaN   \n",
       "2                              Наука. Науковедение    NaN   \n",
       "3                              Наука. Науковедение    NaN   \n",
       "4                              Наука. Науковедение    NaN   \n",
       "\n",
       "                                  serial ager  \n",
       "0  Татьяна Устинова. Первая среди лучших  16+  \n",
       "1                                    NaN  12+  \n",
       "2                                    NaN  12+  \n",
       "3                                    NaN  12+  \n",
       "4                                    NaN  12+  "
      ]
     },
     "execution_count": 105,
     "metadata": {},
     "output_type": "execute_result"
    }
   ],
   "source": [
    "data.head()"
   ]
  },
  {
   "cell_type": "code",
   "execution_count": 106,
   "id": "1f32747a-92c3-44fe-b376-32996de5f9ea",
   "metadata": {},
   "outputs": [
    {
     "data": {
      "text/plain": [
       "((1107638, 7), (1040814, 7), 2148452)"
      ]
     },
     "execution_count": 106,
     "metadata": {},
     "output_type": "execute_result"
    }
   ],
   "source": [
    "# отделяем уникальные (чистые) данные и дубли\n",
    "\n",
    "dupl = data[data[['title', 'aut']].duplicated(keep='first')]\n",
    "data.drop_duplicates(['title', 'aut'], keep='first', inplace=True) \n",
    "data.shape, dupl.shape, data.shape[0] + dupl.shape[0]"
   ]
  },
  {
   "cell_type": "code",
   "execution_count": 107,
   "id": "68f62bf3-4b94-4958-9720-5e4239dc0585",
   "metadata": {},
   "outputs": [
    {
     "name": "stdout",
     "output_type": "stream",
     "text": [
      "(2148452, 12)\n"
     ]
    },
    {
     "data": {
      "text/html": [
       "<div>\n",
       "<style scoped>\n",
       "    .dataframe tbody tr th:only-of-type {\n",
       "        vertical-align: middle;\n",
       "    }\n",
       "\n",
       "    .dataframe tbody tr th {\n",
       "        vertical-align: top;\n",
       "    }\n",
       "\n",
       "    .dataframe thead th {\n",
       "        text-align: right;\n",
       "    }\n",
       "</style>\n",
       "<table border=\"1\" class=\"dataframe\">\n",
       "  <thead>\n",
       "    <tr style=\"text-align: right;\">\n",
       "      <th></th>\n",
       "      <th>recId_x</th>\n",
       "      <th>aut</th>\n",
       "      <th>title</th>\n",
       "      <th>rubrics_x</th>\n",
       "      <th>person_x</th>\n",
       "      <th>serial_x</th>\n",
       "      <th>ager_x</th>\n",
       "      <th>recId_y</th>\n",
       "      <th>rubrics_y</th>\n",
       "      <th>person_y</th>\n",
       "      <th>serial_y</th>\n",
       "      <th>ager_y</th>\n",
       "    </tr>\n",
       "  </thead>\n",
       "  <tbody>\n",
       "    <tr>\n",
       "      <th>0</th>\n",
       "      <td>1</td>\n",
       "      <td>Устинова Татьяна Витальевна</td>\n",
       "      <td>Призрак Канта</td>\n",
       "      <td>Художественная литература : Российский детектив</td>\n",
       "      <td>NaN</td>\n",
       "      <td>Татьяна Устинова. Первая среди лучших</td>\n",
       "      <td>16+</td>\n",
       "      <td>1</td>\n",
       "      <td>Художественная литература : Российский детектив</td>\n",
       "      <td>NaN</td>\n",
       "      <td>Татьяна Устинова. Первая среди лучших</td>\n",
       "      <td>16+</td>\n",
       "    </tr>\n",
       "    <tr>\n",
       "      <th>1</th>\n",
       "      <td>1</td>\n",
       "      <td>Устинова Татьяна Витальевна</td>\n",
       "      <td>Призрак Канта</td>\n",
       "      <td>Художественная литература : Российский детектив</td>\n",
       "      <td>NaN</td>\n",
       "      <td>Татьяна Устинова. Первая среди лучших</td>\n",
       "      <td>16+</td>\n",
       "      <td>1656353</td>\n",
       "      <td>Художественная литература : Российский детекти...</td>\n",
       "      <td>NaN</td>\n",
       "      <td>Татьяна Устинова. Первая среди лучших : Русски...</td>\n",
       "      <td>16+</td>\n",
       "    </tr>\n",
       "    <tr>\n",
       "      <th>2</th>\n",
       "      <td>1</td>\n",
       "      <td>Устинова Татьяна Витальевна</td>\n",
       "      <td>Призрак Канта</td>\n",
       "      <td>Художественная литература : Российский детектив</td>\n",
       "      <td>NaN</td>\n",
       "      <td>Татьяна Устинова. Первая среди лучших</td>\n",
       "      <td>16+</td>\n",
       "      <td>2501333</td>\n",
       "      <td>Художественная литература</td>\n",
       "      <td>NaN</td>\n",
       "      <td>Первая среди лучших</td>\n",
       "      <td>16+</td>\n",
       "    </tr>\n",
       "    <tr>\n",
       "      <th>3</th>\n",
       "      <td>2</td>\n",
       "      <td>NaN</td>\n",
       "      <td>Наука и жизнь</td>\n",
       "      <td>Наука. Науковедение</td>\n",
       "      <td>NaN</td>\n",
       "      <td>NaN</td>\n",
       "      <td>12+</td>\n",
       "      <td>2</td>\n",
       "      <td>Наука. Науковедение</td>\n",
       "      <td>NaN</td>\n",
       "      <td>NaN</td>\n",
       "      <td>12+</td>\n",
       "    </tr>\n",
       "    <tr>\n",
       "      <th>4</th>\n",
       "      <td>2</td>\n",
       "      <td>NaN</td>\n",
       "      <td>Наука и жизнь</td>\n",
       "      <td>Наука. Науковедение</td>\n",
       "      <td>NaN</td>\n",
       "      <td>NaN</td>\n",
       "      <td>12+</td>\n",
       "      <td>3</td>\n",
       "      <td>Наука. Науковедение</td>\n",
       "      <td>NaN</td>\n",
       "      <td>NaN</td>\n",
       "      <td>12+</td>\n",
       "    </tr>\n",
       "  </tbody>\n",
       "</table>\n",
       "</div>"
      ],
      "text/plain": [
       "   recId_x                          aut          title  \\\n",
       "0        1  Устинова Татьяна Витальевна  Призрак Канта   \n",
       "1        1  Устинова Татьяна Витальевна  Призрак Канта   \n",
       "2        1  Устинова Татьяна Витальевна  Призрак Канта   \n",
       "3        2                          NaN  Наука и жизнь   \n",
       "4        2                          NaN  Наука и жизнь   \n",
       "\n",
       "                                         rubrics_x person_x  \\\n",
       "0  Художественная литература : Российский детектив      NaN   \n",
       "1  Художественная литература : Российский детектив      NaN   \n",
       "2  Художественная литература : Российский детектив      NaN   \n",
       "3                              Наука. Науковедение      NaN   \n",
       "4                              Наука. Науковедение      NaN   \n",
       "\n",
       "                                serial_x ager_x  recId_y  \\\n",
       "0  Татьяна Устинова. Первая среди лучших    16+        1   \n",
       "1  Татьяна Устинова. Первая среди лучших    16+  1656353   \n",
       "2  Татьяна Устинова. Первая среди лучших    16+  2501333   \n",
       "3                                    NaN    12+        2   \n",
       "4                                    NaN    12+        3   \n",
       "\n",
       "                                           rubrics_y person_y  \\\n",
       "0    Художественная литература : Российский детектив      NaN   \n",
       "1  Художественная литература : Российский детекти...      NaN   \n",
       "2                          Художественная литература      NaN   \n",
       "3                                Наука. Науковедение      NaN   \n",
       "4                                Наука. Науковедение      NaN   \n",
       "\n",
       "                                            serial_y ager_y  \n",
       "0              Татьяна Устинова. Первая среди лучших    16+  \n",
       "1  Татьяна Устинова. Первая среди лучших : Русски...    16+  \n",
       "2                                Первая среди лучших    16+  \n",
       "3                                                NaN    12+  \n",
       "4                                                NaN    12+  "
      ]
     },
     "execution_count": 107,
     "metadata": {},
     "output_type": "execute_result"
    }
   ],
   "source": [
    "# мерджим чистые данные и дубли, чтобы сделать маппинг и дозаполнить чистые данные\n",
    "\n",
    "full = pd.concat([data, dupl]).reset_index(drop=True)\n",
    "extra_data = pd.merge(left=data, right=full, how='left', on=['title', 'aut'])\n",
    "\n",
    "print(extra_data.shape)\n",
    "extra_data.head()"
   ]
  },
  {
   "cell_type": "code",
   "execution_count": 108,
   "id": "e50787ae-e726-4ebf-8760-a230d1b5c81a",
   "metadata": {},
   "outputs": [
    {
     "name": "stdout",
     "output_type": "stream",
     "text": [
      "(2179125, 2)\n"
     ]
    },
    {
     "data": {
      "text/html": [
       "<div>\n",
       "<style scoped>\n",
       "    .dataframe tbody tr th:only-of-type {\n",
       "        vertical-align: middle;\n",
       "    }\n",
       "\n",
       "    .dataframe tbody tr th {\n",
       "        vertical-align: top;\n",
       "    }\n",
       "\n",
       "    .dataframe thead th {\n",
       "        text-align: right;\n",
       "    }\n",
       "</style>\n",
       "<table border=\"1\" class=\"dataframe\">\n",
       "  <thead>\n",
       "    <tr style=\"text-align: right;\">\n",
       "      <th></th>\n",
       "      <th>recId_in</th>\n",
       "      <th>recId_out</th>\n",
       "    </tr>\n",
       "  </thead>\n",
       "  <tbody>\n",
       "    <tr>\n",
       "      <th>0</th>\n",
       "      <td>20</td>\n",
       "      <td>&lt;NA&gt;</td>\n",
       "    </tr>\n",
       "    <tr>\n",
       "      <th>1</th>\n",
       "      <td>24</td>\n",
       "      <td>&lt;NA&gt;</td>\n",
       "    </tr>\n",
       "    <tr>\n",
       "      <th>2</th>\n",
       "      <td>29</td>\n",
       "      <td>&lt;NA&gt;</td>\n",
       "    </tr>\n",
       "    <tr>\n",
       "      <th>3</th>\n",
       "      <td>118</td>\n",
       "      <td>&lt;NA&gt;</td>\n",
       "    </tr>\n",
       "    <tr>\n",
       "      <th>4</th>\n",
       "      <td>119</td>\n",
       "      <td>&lt;NA&gt;</td>\n",
       "    </tr>\n",
       "  </tbody>\n",
       "</table>\n",
       "</div>"
      ],
      "text/plain": [
       "   recId_in  recId_out\n",
       "0        20       <NA>\n",
       "1        24       <NA>\n",
       "2        29       <NA>\n",
       "3       118       <NA>\n",
       "4       119       <NA>"
      ]
     },
     "execution_count": 108,
     "metadata": {},
     "output_type": "execute_result"
    }
   ],
   "source": [
    "# делаем маппинг\n",
    "\n",
    "temp = extra_data[['recId_x', 'recId_y']].copy()\n",
    "temp.rename(columns={'recId_x': 'recId_out', 'recId_y': 'recId_in'}, inplace=True)\n",
    "temp = temp.reindex(columns=['recId_in', 'recId_out'])\n",
    "\n",
    "books_map = pd.concat([books_map, temp])\n",
    "books_map = books_map.astype({\"recId_out\": \"Int64\"})\n",
    "books_map = books_map.reset_index(drop=True)\n",
    "print(books_map.shape)\n",
    "books_map.head()"
   ]
  },
  {
   "cell_type": "code",
   "execution_count": 114,
   "id": "df29a9f5-094f-4cfd-8f8e-33c7ad1b6d95",
   "metadata": {},
   "outputs": [],
   "source": [
    "# сохраняем маппинг\n",
    "books_map.to_csv('data/books_map.csv',encoding='utf-8')"
   ]
  },
  {
   "cell_type": "code",
   "execution_count": 116,
   "id": "9c47dbb4-2312-47cc-aeb1-dadac11fa967",
   "metadata": {},
   "outputs": [],
   "source": [
    "# сохраняем books\n",
    "\n",
    "data.to_csv('data/books.csv',encoding='utf-8')"
   ]
  },
  {
   "cell_type": "code",
   "execution_count": 117,
   "id": "1f39d8ba-094a-4762-93b8-04bc8a575927",
   "metadata": {},
   "outputs": [
    {
     "data": {
      "text/plain": [
       "(1107638, 7)"
      ]
     },
     "execution_count": 117,
     "metadata": {},
     "output_type": "execute_result"
    }
   ],
   "source": [
    "data.shape"
   ]
  },
  {
   "cell_type": "markdown",
   "id": "23ed25f1-cbc2-4a4e-bef8-9db424b88ee8",
   "metadata": {},
   "source": [
    "## Interactions"
   ]
  },
  {
   "cell_type": "code",
   "execution_count": 3,
   "id": "4bb1e8f1-0a1d-44cf-b70e-ba85f6fc50ba",
   "metadata": {},
   "outputs": [
    {
     "name": "stdout",
     "output_type": "stream",
     "text": [
      "(15714320, 10)\n"
     ]
    },
    {
     "data": {
      "text/html": [
       "<div>\n",
       "<style scoped>\n",
       "    .dataframe tbody tr th:only-of-type {\n",
       "        vertical-align: middle;\n",
       "    }\n",
       "\n",
       "    .dataframe tbody tr th {\n",
       "        vertical-align: top;\n",
       "    }\n",
       "\n",
       "    .dataframe thead th {\n",
       "        text-align: right;\n",
       "    }\n",
       "</style>\n",
       "<table border=\"1\" class=\"dataframe\">\n",
       "  <thead>\n",
       "    <tr style=\"text-align: right;\">\n",
       "      <th></th>\n",
       "      <th>circulationID</th>\n",
       "      <th>catalogueRecordID</th>\n",
       "      <th>barcode</th>\n",
       "      <th>startDate</th>\n",
       "      <th>finishDate</th>\n",
       "      <th>readerID</th>\n",
       "      <th>bookpointID</th>\n",
       "      <th>state</th>\n",
       "      <th>Unnamed: 8</th>\n",
       "      <th>Unnamed: 9</th>\n",
       "    </tr>\n",
       "  </thead>\n",
       "  <tbody>\n",
       "    <tr>\n",
       "      <th>0</th>\n",
       "      <td>2950477</td>\n",
       "      <td>12555</td>\n",
       "      <td>381002128634</td>\n",
       "      <td>01.09.2019</td>\n",
       "      <td>01.09.2019</td>\n",
       "      <td>1188</td>\n",
       "      <td>46</td>\n",
       "      <td>Размещен в фонде</td>\n",
       "      <td>NaN</td>\n",
       "      <td>NaN</td>\n",
       "    </tr>\n",
       "    <tr>\n",
       "      <th>1</th>\n",
       "      <td>2950479</td>\n",
       "      <td>841695</td>\n",
       "      <td>1086000549854</td>\n",
       "      <td>01.09.2019</td>\n",
       "      <td>01.09.2019</td>\n",
       "      <td>23276</td>\n",
       "      <td>56</td>\n",
       "      <td>Размещен в фонде</td>\n",
       "      <td>NaN</td>\n",
       "      <td>NaN</td>\n",
       "    </tr>\n",
       "    <tr>\n",
       "      <th>2</th>\n",
       "      <td>2950480</td>\n",
       "      <td>553535</td>\n",
       "      <td>1085000292739</td>\n",
       "      <td>01.09.2019</td>\n",
       "      <td>15.10.2019</td>\n",
       "      <td>23128</td>\n",
       "      <td>55</td>\n",
       "      <td>Размещен в фонде</td>\n",
       "      <td>NaN</td>\n",
       "      <td>NaN</td>\n",
       "    </tr>\n",
       "    <tr>\n",
       "      <th>3</th>\n",
       "      <td>2950481</td>\n",
       "      <td>272495</td>\n",
       "      <td>1085000292722</td>\n",
       "      <td>01.09.2019</td>\n",
       "      <td>15.10.2019</td>\n",
       "      <td>23128</td>\n",
       "      <td>55</td>\n",
       "      <td>Размещен в фонде</td>\n",
       "      <td>NaN</td>\n",
       "      <td>NaN</td>\n",
       "    </tr>\n",
       "    <tr>\n",
       "      <th>4</th>\n",
       "      <td>2950482</td>\n",
       "      <td>103580</td>\n",
       "      <td>181001063192</td>\n",
       "      <td>01.09.2019</td>\n",
       "      <td>01.10.2019</td>\n",
       "      <td>44894</td>\n",
       "      <td>99</td>\n",
       "      <td>Переоформлен</td>\n",
       "      <td>NaN</td>\n",
       "      <td>NaN</td>\n",
       "    </tr>\n",
       "  </tbody>\n",
       "</table>\n",
       "</div>"
      ],
      "text/plain": [
       "   circulationID  catalogueRecordID        barcode   startDate  finishDate  \\\n",
       "0        2950477              12555   381002128634  01.09.2019  01.09.2019   \n",
       "1        2950479             841695  1086000549854  01.09.2019  01.09.2019   \n",
       "2        2950480             553535  1085000292739  01.09.2019  15.10.2019   \n",
       "3        2950481             272495  1085000292722  01.09.2019  15.10.2019   \n",
       "4        2950482             103580   181001063192  01.09.2019  01.10.2019   \n",
       "\n",
       "   readerID  bookpointID             state  Unnamed: 8  Unnamed: 9  \n",
       "0      1188           46  Размещен в фонде         NaN         NaN  \n",
       "1     23276           56  Размещен в фонде         NaN         NaN  \n",
       "2     23128           55  Размещен в фонде         NaN         NaN  \n",
       "3     23128           55  Размещен в фонде         NaN         NaN  \n",
       "4     44894           99      Переоформлен         NaN         NaN  "
      ]
     },
     "execution_count": 3,
     "metadata": {},
     "output_type": "execute_result"
    }
   ],
   "source": [
    "data1 = pd.read_csv(dir + 'circulaton_1.csv', sep=';', encoding='windows-1251')\n",
    "data2 = pd.read_csv(dir + 'circulaton_2.csv', sep=';', encoding='windows-1251')\n",
    "data3 = pd.read_csv(dir + 'circulaton_3.csv', sep=';', encoding='windows-1251')\n",
    "data4 = pd.read_csv(dir + 'circulaton_4.csv', sep=';', encoding='windows-1251')\n",
    "data5 = pd.read_csv(dir + 'circulaton_5.csv', sep=';', encoding='windows-1251')\n",
    "data6 = pd.read_csv(dir + 'circulaton_6.csv', sep=';', encoding='windows-1251')\n",
    "data7 = pd.read_csv(dir + 'circulaton_7.csv', sep=';', encoding='windows-1251')\n",
    "data8 = pd.read_csv(dir + 'circulaton_8.csv', sep=';', encoding='windows-1251')\n",
    "data9 = pd.read_csv(dir + 'circulaton_9.csv', sep=';', encoding='windows-1251')\n",
    "data10 = pd.read_csv(dir + 'circulaton_10.csv', sep=';', encoding='windows-1251')\n",
    "data11 = pd.read_csv(dir + 'circulaton_11.csv', sep=';', encoding='windows-1251')\n",
    "data12 = pd.read_csv(dir + 'circulaton_12.csv', sep=';', encoding='windows-1251')\n",
    "data13 = pd.read_csv(dir + 'circulaton_13.csv', sep=';', encoding='windows-1251')\n",
    "data14 = pd.read_csv(dir + 'circulaton_14.csv', sep=';', encoding='windows-1251')\n",
    "data15 = pd.read_csv(dir + 'circulaton_15.csv', sep=';', encoding='windows-1251')\n",
    "data16 = pd.read_csv(dir + 'circulaton_16.csv', sep=';', encoding='windows-1251')\n",
    "\n",
    "data = pd.concat([data1, data2, data3, data4, data5, data6, data7, data8, data9, data10, data11, data12, data13, data14, data15, data16]).reset_index(drop=True)\n",
    "\n",
    "print(data.shape)\n",
    "data.head()"
   ]
  },
  {
   "cell_type": "code",
   "execution_count": 4,
   "id": "f0fb90a9-1823-4f94-9c90-1514fe2b0e24",
   "metadata": {},
   "outputs": [],
   "source": [
    "data.drop(['circulationID', 'barcode', 'finishDate', 'bookpointID', 'state', 'Unnamed: 8', 'Unnamed: 9'], axis=1, inplace=True)\n",
    "data.rename(columns={'catalogueRecordID': 'recId', 'startDate': 'date', 'readerID': 'user_id'}, inplace=True)\n",
    "\n",
    "data.drop_duplicates(keep='first', inplace=True)"
   ]
  },
  {
   "cell_type": "code",
   "execution_count": 5,
   "id": "0482d882-7376-47a6-8553-7263bbc1166d",
   "metadata": {},
   "outputs": [
    {
     "name": "stdout",
     "output_type": "stream",
     "text": [
      "(13306480, 3)\n"
     ]
    },
    {
     "data": {
      "text/html": [
       "<div>\n",
       "<style scoped>\n",
       "    .dataframe tbody tr th:only-of-type {\n",
       "        vertical-align: middle;\n",
       "    }\n",
       "\n",
       "    .dataframe tbody tr th {\n",
       "        vertical-align: top;\n",
       "    }\n",
       "\n",
       "    .dataframe thead th {\n",
       "        text-align: right;\n",
       "    }\n",
       "</style>\n",
       "<table border=\"1\" class=\"dataframe\">\n",
       "  <thead>\n",
       "    <tr style=\"text-align: right;\">\n",
       "      <th></th>\n",
       "      <th>recId</th>\n",
       "      <th>date</th>\n",
       "      <th>user_id</th>\n",
       "    </tr>\n",
       "  </thead>\n",
       "  <tbody>\n",
       "    <tr>\n",
       "      <th>0</th>\n",
       "      <td>12555</td>\n",
       "      <td>01.09.2019</td>\n",
       "      <td>1188</td>\n",
       "    </tr>\n",
       "    <tr>\n",
       "      <th>1</th>\n",
       "      <td>841695</td>\n",
       "      <td>01.09.2019</td>\n",
       "      <td>23276</td>\n",
       "    </tr>\n",
       "    <tr>\n",
       "      <th>2</th>\n",
       "      <td>553535</td>\n",
       "      <td>01.09.2019</td>\n",
       "      <td>23128</td>\n",
       "    </tr>\n",
       "    <tr>\n",
       "      <th>3</th>\n",
       "      <td>272495</td>\n",
       "      <td>01.09.2019</td>\n",
       "      <td>23128</td>\n",
       "    </tr>\n",
       "    <tr>\n",
       "      <th>4</th>\n",
       "      <td>103580</td>\n",
       "      <td>01.09.2019</td>\n",
       "      <td>44894</td>\n",
       "    </tr>\n",
       "  </tbody>\n",
       "</table>\n",
       "</div>"
      ],
      "text/plain": [
       "    recId        date  user_id\n",
       "0   12555  01.09.2019     1188\n",
       "1  841695  01.09.2019    23276\n",
       "2  553535  01.09.2019    23128\n",
       "3  272495  01.09.2019    23128\n",
       "4  103580  01.09.2019    44894"
      ]
     },
     "execution_count": 5,
     "metadata": {},
     "output_type": "execute_result"
    }
   ],
   "source": [
    "print(data.shape)\n",
    "data.head()"
   ]
  },
  {
   "cell_type": "code",
   "execution_count": 6,
   "id": "ec9471e9-9119-4df1-bffe-75ec14e08af6",
   "metadata": {},
   "outputs": [
    {
     "name": "stdout",
     "output_type": "stream",
     "text": [
      "# users:  555611\n",
      "# items:  654978\n",
      "# interactions:  13306480\n"
     ]
    }
   ],
   "source": [
    "users, items, interactions = data.user_id.nunique(), data.recId.nunique(), data.shape[0]\n",
    "\n",
    "print('# users: ', users)\n",
    "print('# items: ', items)\n",
    "print('# interactions: ', interactions)"
   ]
  },
  {
   "cell_type": "markdown",
   "id": "2eecb881-d657-4802-84ff-0629ab6e5a32",
   "metadata": {},
   "source": [
    "#### перекодируем с учетом \"чистых\" книг"
   ]
  },
  {
   "cell_type": "code",
   "execution_count": 7,
   "id": "bcc9d42b-4de2-4ddc-a2f5-b492adc67b9e",
   "metadata": {},
   "outputs": [
    {
     "name": "stdout",
     "output_type": "stream",
     "text": [
      "(2179125, 2)\n"
     ]
    },
    {
     "data": {
      "text/html": [
       "<div>\n",
       "<style scoped>\n",
       "    .dataframe tbody tr th:only-of-type {\n",
       "        vertical-align: middle;\n",
       "    }\n",
       "\n",
       "    .dataframe tbody tr th {\n",
       "        vertical-align: top;\n",
       "    }\n",
       "\n",
       "    .dataframe thead th {\n",
       "        text-align: right;\n",
       "    }\n",
       "</style>\n",
       "<table border=\"1\" class=\"dataframe\">\n",
       "  <thead>\n",
       "    <tr style=\"text-align: right;\">\n",
       "      <th></th>\n",
       "      <th>recId_in</th>\n",
       "      <th>recId_out</th>\n",
       "    </tr>\n",
       "  </thead>\n",
       "  <tbody>\n",
       "    <tr>\n",
       "      <th>0</th>\n",
       "      <td>20</td>\n",
       "      <td>NaN</td>\n",
       "    </tr>\n",
       "    <tr>\n",
       "      <th>1</th>\n",
       "      <td>24</td>\n",
       "      <td>NaN</td>\n",
       "    </tr>\n",
       "    <tr>\n",
       "      <th>2</th>\n",
       "      <td>29</td>\n",
       "      <td>NaN</td>\n",
       "    </tr>\n",
       "    <tr>\n",
       "      <th>3</th>\n",
       "      <td>118</td>\n",
       "      <td>NaN</td>\n",
       "    </tr>\n",
       "    <tr>\n",
       "      <th>4</th>\n",
       "      <td>119</td>\n",
       "      <td>NaN</td>\n",
       "    </tr>\n",
       "  </tbody>\n",
       "</table>\n",
       "</div>"
      ],
      "text/plain": [
       "   recId_in  recId_out\n",
       "0        20        NaN\n",
       "1        24        NaN\n",
       "2        29        NaN\n",
       "3       118        NaN\n",
       "4       119        NaN"
      ]
     },
     "execution_count": 7,
     "metadata": {},
     "output_type": "execute_result"
    }
   ],
   "source": [
    "books_map = pd.read_csv('data/books_map.csv').drop('Unnamed: 0', axis=1)\n",
    "print(books_map.shape)\n",
    "books_map.head()"
   ]
  },
  {
   "cell_type": "code",
   "execution_count": 8,
   "id": "2a7ae914-5bde-4d0e-9ae8-3c4ae1214e94",
   "metadata": {},
   "outputs": [
    {
     "data": {
      "text/html": [
       "<div>\n",
       "<style scoped>\n",
       "    .dataframe tbody tr th:only-of-type {\n",
       "        vertical-align: middle;\n",
       "    }\n",
       "\n",
       "    .dataframe tbody tr th {\n",
       "        vertical-align: top;\n",
       "    }\n",
       "\n",
       "    .dataframe thead th {\n",
       "        text-align: right;\n",
       "    }\n",
       "</style>\n",
       "<table border=\"1\" class=\"dataframe\">\n",
       "  <thead>\n",
       "    <tr style=\"text-align: right;\">\n",
       "      <th></th>\n",
       "      <th>recId</th>\n",
       "      <th>recId_out</th>\n",
       "    </tr>\n",
       "  </thead>\n",
       "  <tbody>\n",
       "    <tr>\n",
       "      <th>0</th>\n",
       "      <td>20</td>\n",
       "      <td>NaN</td>\n",
       "    </tr>\n",
       "    <tr>\n",
       "      <th>1</th>\n",
       "      <td>24</td>\n",
       "      <td>NaN</td>\n",
       "    </tr>\n",
       "    <tr>\n",
       "      <th>2</th>\n",
       "      <td>29</td>\n",
       "      <td>NaN</td>\n",
       "    </tr>\n",
       "    <tr>\n",
       "      <th>3</th>\n",
       "      <td>118</td>\n",
       "      <td>NaN</td>\n",
       "    </tr>\n",
       "    <tr>\n",
       "      <th>4</th>\n",
       "      <td>119</td>\n",
       "      <td>NaN</td>\n",
       "    </tr>\n",
       "  </tbody>\n",
       "</table>\n",
       "</div>"
      ],
      "text/plain": [
       "   recId  recId_out\n",
       "0     20        NaN\n",
       "1     24        NaN\n",
       "2     29        NaN\n",
       "3    118        NaN\n",
       "4    119        NaN"
      ]
     },
     "execution_count": 8,
     "metadata": {},
     "output_type": "execute_result"
    }
   ],
   "source": [
    "books_map.rename(columns={'recId_in': 'recId'}, inplace=True)\n",
    "books_map.head()"
   ]
  },
  {
   "cell_type": "code",
   "execution_count": 9,
   "id": "1352930c-9005-4664-93ff-cea5b0b072f1",
   "metadata": {},
   "outputs": [],
   "source": [
    "temp = pd.merge(left=data, right=books_map, how='left', on='recId')"
   ]
  },
  {
   "cell_type": "code",
   "execution_count": 10,
   "id": "080cf15a-2d43-4e9d-914f-f3961653945f",
   "metadata": {},
   "outputs": [
    {
     "name": "stdout",
     "output_type": "stream",
     "text": [
      "нет книг в каталоге, %: 1.716607246995449\n"
     ]
    }
   ],
   "source": [
    "print('нет книг в каталоге, %:', temp['recId_out'].isnull().sum()/ temp.shape[0]*100)"
   ]
  },
  {
   "cell_type": "code",
   "execution_count": 11,
   "id": "295af50e-95eb-4de2-b873-20b0dea15dd9",
   "metadata": {},
   "outputs": [],
   "source": [
    "temp.dropna(axis=0, inplace=True)\n",
    "temp.drop('recId', axis=1, inplace=True)"
   ]
  },
  {
   "cell_type": "code",
   "execution_count": 12,
   "id": "d854717f-f94d-43f1-844b-43c2381bb61e",
   "metadata": {},
   "outputs": [],
   "source": [
    "temp.rename(columns={'recId_out': 'item_id'}, inplace=True)\n",
    "temp.drop_duplicates(keep='first', inplace=True)\n"
   ]
  },
  {
   "cell_type": "code",
   "execution_count": 13,
   "id": "a952d927-8e24-4716-831e-5783eda9d35b",
   "metadata": {},
   "outputs": [
    {
     "name": "stdout",
     "output_type": "stream",
     "text": [
      "(11383578, 3)\n"
     ]
    },
    {
     "data": {
      "text/html": [
       "<div>\n",
       "<style scoped>\n",
       "    .dataframe tbody tr th:only-of-type {\n",
       "        vertical-align: middle;\n",
       "    }\n",
       "\n",
       "    .dataframe tbody tr th {\n",
       "        vertical-align: top;\n",
       "    }\n",
       "\n",
       "    .dataframe thead th {\n",
       "        text-align: right;\n",
       "    }\n",
       "</style>\n",
       "<table border=\"1\" class=\"dataframe\">\n",
       "  <thead>\n",
       "    <tr style=\"text-align: right;\">\n",
       "      <th></th>\n",
       "      <th>date</th>\n",
       "      <th>user_id</th>\n",
       "      <th>item_id</th>\n",
       "    </tr>\n",
       "  </thead>\n",
       "  <tbody>\n",
       "    <tr>\n",
       "      <th>0</th>\n",
       "      <td>01.09.2019</td>\n",
       "      <td>1188</td>\n",
       "      <td>12555</td>\n",
       "    </tr>\n",
       "    <tr>\n",
       "      <th>1</th>\n",
       "      <td>01.09.2019</td>\n",
       "      <td>23276</td>\n",
       "      <td>252072</td>\n",
       "    </tr>\n",
       "    <tr>\n",
       "      <th>2</th>\n",
       "      <td>01.09.2019</td>\n",
       "      <td>23128</td>\n",
       "      <td>237826</td>\n",
       "    </tr>\n",
       "    <tr>\n",
       "      <th>4</th>\n",
       "      <td>01.09.2019</td>\n",
       "      <td>44894</td>\n",
       "      <td>103580</td>\n",
       "    </tr>\n",
       "    <tr>\n",
       "      <th>5</th>\n",
       "      <td>01.09.2019</td>\n",
       "      <td>44894</td>\n",
       "      <td>244035</td>\n",
       "    </tr>\n",
       "  </tbody>\n",
       "</table>\n",
       "</div>"
      ],
      "text/plain": [
       "         date  user_id  item_id\n",
       "0  01.09.2019     1188    12555\n",
       "1  01.09.2019    23276   252072\n",
       "2  01.09.2019    23128   237826\n",
       "4  01.09.2019    44894   103580\n",
       "5  01.09.2019    44894   244035"
      ]
     },
     "execution_count": 13,
     "metadata": {},
     "output_type": "execute_result"
    }
   ],
   "source": [
    "interactions = temp.copy()\n",
    "interactions = interactions.astype({\"item_id\": \"Int64\"})\n",
    "print(interactions.shape)\n",
    "interactions.head()"
   ]
  },
  {
   "cell_type": "code",
   "execution_count": 14,
   "id": "e6ce5d81-4ef1-4670-bcb3-caae3ffc4b43",
   "metadata": {},
   "outputs": [
    {
     "name": "stdout",
     "output_type": "stream",
     "text": [
      "# users:  553767\n",
      "# items:  355565\n",
      "# interactions:  11383578\n"
     ]
    }
   ],
   "source": [
    "users, items, inter = interactions.user_id.nunique(), interactions.item_id.nunique(), interactions.shape[0]\n",
    "\n",
    "print('# users: ', users)\n",
    "print('# items: ', items)\n",
    "print('# interactions: ', inter)"
   ]
  },
  {
   "cell_type": "code",
   "execution_count": 15,
   "id": "8996ceb1-8c6e-43dc-99d9-925010b2fdad",
   "metadata": {},
   "outputs": [],
   "source": [
    "interactions['date'] = pd.to_datetime(interactions['date'], format=\"%d.%m.%Y\")"
   ]
  },
  {
   "cell_type": "code",
   "execution_count": 16,
   "id": "cab3f5c8-e20c-49ba-a444-99109cb29b0c",
   "metadata": {},
   "outputs": [
    {
     "data": {
      "text/html": [
       "<div>\n",
       "<style scoped>\n",
       "    .dataframe tbody tr th:only-of-type {\n",
       "        vertical-align: middle;\n",
       "    }\n",
       "\n",
       "    .dataframe tbody tr th {\n",
       "        vertical-align: top;\n",
       "    }\n",
       "\n",
       "    .dataframe thead th {\n",
       "        text-align: right;\n",
       "    }\n",
       "</style>\n",
       "<table border=\"1\" class=\"dataframe\">\n",
       "  <thead>\n",
       "    <tr style=\"text-align: right;\">\n",
       "      <th></th>\n",
       "      <th>date</th>\n",
       "      <th>user_id</th>\n",
       "      <th>item_id</th>\n",
       "    </tr>\n",
       "  </thead>\n",
       "  <tbody>\n",
       "    <tr>\n",
       "      <th>0</th>\n",
       "      <td>2019-09-01</td>\n",
       "      <td>1188</td>\n",
       "      <td>12555</td>\n",
       "    </tr>\n",
       "    <tr>\n",
       "      <th>1</th>\n",
       "      <td>2019-09-01</td>\n",
       "      <td>23276</td>\n",
       "      <td>252072</td>\n",
       "    </tr>\n",
       "    <tr>\n",
       "      <th>2</th>\n",
       "      <td>2019-09-01</td>\n",
       "      <td>23128</td>\n",
       "      <td>237826</td>\n",
       "    </tr>\n",
       "    <tr>\n",
       "      <th>4</th>\n",
       "      <td>2019-09-01</td>\n",
       "      <td>44894</td>\n",
       "      <td>103580</td>\n",
       "    </tr>\n",
       "    <tr>\n",
       "      <th>5</th>\n",
       "      <td>2019-09-01</td>\n",
       "      <td>44894</td>\n",
       "      <td>244035</td>\n",
       "    </tr>\n",
       "  </tbody>\n",
       "</table>\n",
       "</div>"
      ],
      "text/plain": [
       "        date  user_id  item_id\n",
       "0 2019-09-01     1188    12555\n",
       "1 2019-09-01    23276   252072\n",
       "2 2019-09-01    23128   237826\n",
       "4 2019-09-01    44894   103580\n",
       "5 2019-09-01    44894   244035"
      ]
     },
     "execution_count": 16,
     "metadata": {},
     "output_type": "execute_result"
    }
   ],
   "source": [
    "interactions.head()"
   ]
  },
  {
   "cell_type": "code",
   "execution_count": 19,
   "id": "5220ac47-2202-4f8b-9aca-07fd48e4b2c4",
   "metadata": {},
   "outputs": [
    {
     "name": "stderr",
     "output_type": "stream",
     "text": [
      "/opt/conda/lib/python3.7/site-packages/ipykernel_launcher.py:2: FutureWarning: casting datetime64[ns] values to int64 with .astype(...) is deprecated and will raise in a future version. Use .view(...) instead.\n",
      "  \n"
     ]
    }
   ],
   "source": [
    "interactions['timestamp'] = interactions['date']\n",
    "interactions = interactions.astype({\"timestamp\": \"Int64\"})\n",
    "interactions['timestamp'] = interactions['timestamp'] // 10**9"
   ]
  },
  {
   "cell_type": "code",
   "execution_count": null,
   "id": "8ce663cd-c1e1-429f-bfa6-97b429b14f92",
   "metadata": {},
   "outputs": [],
   "source": [
    "# сохраним датасет interactions \n",
    "\n",
    "interactions.to_csv('data/interactions.csv', encoding='utf-8', )"
   ]
  },
  {
   "cell_type": "code",
   "execution_count": 20,
   "id": "b3ff1854-019d-46fc-8781-ee6963797c1b",
   "metadata": {},
   "outputs": [
    {
     "data": {
      "text/plain": [
       "(11383578, 4)"
      ]
     },
     "execution_count": 20,
     "metadata": {},
     "output_type": "execute_result"
    }
   ],
   "source": [
    "interactions.shape"
   ]
  },
  {
   "cell_type": "code",
   "execution_count": null,
   "id": "388044de-4335-4904-b314-e4924b6491cc",
   "metadata": {},
   "outputs": [],
   "source": []
  }
 ],
 "metadata": {
  "environment": {
   "name": "common-cpu.m81",
   "type": "gcloud",
   "uri": "gcr.io/deeplearning-platform-release/base-cpu:m81"
  },
  "kernelspec": {
   "display_name": "Python 3",
   "language": "python",
   "name": "python3"
  },
  "language_info": {
   "codemirror_mode": {
    "name": "ipython",
    "version": 3
   },
   "file_extension": ".py",
   "mimetype": "text/x-python",
   "name": "python",
   "nbconvert_exporter": "python",
   "pygments_lexer": "ipython3",
   "version": "3.7.10"
  }
 },
 "nbformat": 4,
 "nbformat_minor": 5
}
